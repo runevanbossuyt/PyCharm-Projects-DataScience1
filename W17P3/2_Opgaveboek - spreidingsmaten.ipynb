{
 "cells": [
  {
   "cell_type": "markdown",
   "metadata": {
    "id": "0F-YcBgV62mD"
   },
   "source": [
    "Setup"
   ]
  },
  {
   "cell_type": "code",
   "execution_count": 323,
   "metadata": {},
   "outputs": [],
   "source": [
    "import pandas as pd\n",
    "import numpy as np\n",
    "import matplotlib.pyplot as plt\n",
    "import math as math"
   ]
  },
  {
   "cell_type": "markdown",
   "metadata": {
    "id": "LZnY8F-IFfYZ"
   },
   "source": [
    "## Spreidingsmaten\n",
    "\n",
    "### Redeneervragen"
   ]
  },
  {
   "cell_type": "markdown",
   "metadata": {
    "collapsed": false
   },
   "source": [
    "#### Vraag 1\n",
    "\n",
    "Bij de test over centrummaten werden volgende resultaten in de frequentietabel genoteerd:\n",
    "\n",
    "|score |17 |18 |19 |20 |21 |22 |23 |24 |\n",
    "|------|---|---|---|---|---|---|---|---|\n",
    "|f     |5  |6  |17 |23 |32 |10 |10 | 7 |"
   ]
  },
  {
   "cell_type": "markdown",
   "metadata": {
    "collapsed": false
   },
   "source": [
    "- Zet de frequentietabel om naar de originele gegevens m.b.v. Numpy en een Pandas Series."
   ]
  },
  {
   "cell_type": "code",
   "execution_count": 324,
   "metadata": {},
   "outputs": [
    {
     "name": "stdout",
     "output_type": "stream",
     "text": [
      "Originele gegevens:\n",
      "       0\n",
      "0    17\n",
      "1    17\n",
      "2    17\n",
      "3    17\n",
      "4    17\n",
      "..   ..\n",
      "105  24\n",
      "106  24\n",
      "107  24\n",
      "108  24\n",
      "109  24\n",
      "\n",
      "[110 rows x 1 columns]\n"
     ]
    }
   ],
   "source": [
    "scores = np.array([17, 18, 19, 20, 21, 22, 23, 24])\n",
    "frequencies = np.array([5, 6, 17, 23, 32, 10, 10, 7])\n",
    "\n",
    "data = np.repeat(scores, frequencies) # Maak een lijst van alle scores\n",
    "data = np.sort(data) # Sorteer de lijst\n",
    "\n",
    "# Maak een Pandas Series van de originele gegevens\n",
    "series = pd.DataFrame(data)\n",
    "\n",
    "print(\"Originele gegevens:\\n\", series) # TEST"
   ]
  },
  {
   "cell_type": "markdown",
   "metadata": {
    "collapsed": false
   },
   "source": [
    "- Wat is het bereik van deze test?"
   ]
  },
  {
   "cell_type": "code",
   "execution_count": 325,
   "metadata": {},
   "outputs": [
    {
     "name": "stdout",
     "output_type": "stream",
     "text": [
      "Bereik ->  [7]\n"
     ]
    }
   ],
   "source": [
    "max = series.max()\n",
    "min = series.min()\n",
    "bereik = max - min\n",
    "\n",
    "print(\"Bereik -> \", bereik.values) # TEST"
   ]
  },
  {
   "cell_type": "markdown",
   "metadata": {
    "collapsed": false
   },
   "source": [
    "- Wat is de waarde van de interkwartielafstand?"
   ]
  },
  {
   "cell_type": "code",
   "execution_count": 326,
   "metadata": {},
   "outputs": [
    {
     "name": "stdout",
     "output_type": "stream",
     "text": [
      "Interkwartielafstand ->  1.75\n"
     ]
    }
   ],
   "source": [
    "from scipy import stats\n",
    "\n",
    "IQR = stats.iqr(series.dropna())\n",
    "\n",
    "print(\"Interkwartielafstand -> \", IQR) # TEST"
   ]
  },
  {
   "cell_type": "markdown",
   "metadata": {
    "collapsed": false
   },
   "source": [
    "- Wat betekent deze interkwartielafstand?"
   ]
  },
  {
   "cell_type": "code",
   "execution_count": 327,
   "metadata": {},
   "outputs": [],
   "source": [
    "# Interkwartielafstand = (IQR)\n",
    "# Het verschil tussen het derde en het eerste kwartiel"
   ]
  },
  {
   "cell_type": "markdown",
   "metadata": {
    "collapsed": false
   },
   "source": [
    "- Teken een boxplot"
   ]
  },
  {
   "cell_type": "code",
   "execution_count": 328,
   "metadata": {},
   "outputs": [
    {
     "name": "stdout",
     "output_type": "stream",
     "text": [
      "Axes(0.125,0.11;0.775x0.77)\n"
     ]
    },
    {
     "data": {
      "text/plain": "<Figure size 640x480 with 1 Axes>",
      "image/png": "[encoded data removed]"
     },
     "metadata": {},
     "output_type": "display_data"
    }
   ],
   "source": [
    "import matplotlib.pyplot as plt\n",
    "\n",
    "fig,ax = plt.subplots()\n",
    "print(series.boxplot(ax=ax))"
   ]
  },
  {
   "cell_type": "markdown",
   "metadata": {
    "collapsed": false
   },
   "source": [
    "- Wat is er speciaal aan deze boxplot?  Hoe komt dit?"
   ]
  },
  {
   "cell_type": "code",
   "execution_count": 329,
   "metadata": {},
   "outputs": [],
   "source": [
    "# Q2 = Q3"
   ]
  },
  {
   "cell_type": "markdown",
   "metadata": {
    "collapsed": false
   },
   "source": [
    "- Wat is de standaardafwijking (4 beduidende cijfers, gebruik de `signif` functie uit `hulpfuncties.py`)?"
   ]
  },
  {
   "cell_type": "code",
   "execution_count": 330,
   "metadata": {},
   "outputs": [
    {
     "name": "stdout",
     "output_type": "stream",
     "text": [
      "1\n"
     ]
    }
   ],
   "source": [
    "from hulpfuncties import signif\n",
    "\n",
    "# Bereken de standaardafwijking\n",
    "x = series.std()\n",
    "\n",
    "# Rond af op 4 significante cijfers\n",
    "standaardafwijking = signif(int(x), 4)\n",
    "\n",
    "print(standaardafwijking) # TEST"
   ]
  },
  {
   "cell_type": "markdown",
   "metadata": {
    "id": "aP9F365jFfYn"
   },
   "source": [
    "#### Vraag 2\n",
    "\n",
    "Uit een studenten enquete halen we:\n",
    "\n",
    "|'vrije tijdsbesteding' |Gamen|Jeugdbeweging|Internet, Sociale Media|Film en TV series|Muziek|Sport|Lezen|Andere|Dansen|\n",
    "|------|---|---|---|---|---|---|---|---|---|\n",
    "|frequentie                                |25    |7            |5                       |7               |10     |23|1|5|1\n",
    "\n",
    "\n",
    "|'belangrijkheid om informaticus te worden' |extreem|zeer groot|groot|matig|\n",
    "|------|---|---|---|---|\n",
    "|frequentie  |17|  25|44 |11   |"
   ]
  },
  {
   "cell_type": "markdown",
   "metadata": {
    "collapsed": false
   },
   "source": [
    "Op welke meetschaal zijn de deze gegevens gemeten?"
   ]
  },
  {
   "cell_type": "code",
   "execution_count": 331,
   "metadata": {},
   "outputs": [],
   "source": [
    "# Interval"
   ]
  },
  {
   "cell_type": "markdown",
   "metadata": {
    "collapsed": false
   },
   "source": [
    "Zet deze gegevens eerst om naar twee Pandas Categoricals. Hou rekening met de meetschaal."
   ]
  },
  {
   "cell_type": "code",
   "execution_count": 332,
   "metadata": {},
   "outputs": [
    {
     "name": "stdout",
     "output_type": "stream",
     "text": [
      "0    25\n",
      "1     7\n",
      "2     5\n",
      "3     7\n",
      "4    10\n",
      "5    23\n",
      "6     1\n",
      "7     5\n",
      "8     1\n",
      "dtype: category\n",
      "Categories (6, int64): [1, 5, 7, 10, 23, 25]\n",
      "0    17\n",
      "1    25\n",
      "2    44\n",
      "3    11\n",
      "dtype: category\n",
      "Categories (4, int64): [11, 17, 25, 44]\n"
     ]
    }
   ],
   "source": [
    "vrije_tijdsbesteding = pd.Series([25,7,5,7,10,23,1,5,1], dtype=\"category\")\n",
    "belangrijkheid_om_informaticus_te_worden = pd.Series([17,25,44,11], dtype=\"category\")\n",
    "\n",
    "print(vrije_tijdsbesteding) # TEST\n",
    "print(belangrijkheid_om_informaticus_te_worden) # TEST"
   ]
  },
  {
   "cell_type": "markdown",
   "metadata": {
    "collapsed": false
   },
   "source": [
    "Welke van de volgende waarden kun je berekenen (leg uit) voor de variabele 'vrije tijdsbesteding' en voor de variabele 'belangrijkheid om informaticus te worden' wat is hun waarde?\n",
    "\n",
    "- Gemiddelde\n",
    "- Standaardafwijking\n",
    "- Mediaan\n",
    "- Interkwantielafstand\n",
    "- Bereik\n",
    "- Modus"
   ]
  },
  {
   "cell_type": "code",
   "execution_count": 333,
   "metadata": {},
   "outputs": [],
   "source": [
    "# # Gemiddelde\n",
    "# Gemiddelde = vrije_tijdsbesteding.sum() / len(vrije_tijdsbesteding)\n",
    "# print(\"Gemiddelde ->\", Gemiddelde) # TEST\n",
    "#\n",
    "# # Standaardafwijking\n",
    "# Standaardafwijking = vrije_tijdsbesteding.std()\n",
    "# print(\"Standaardafwijking ->\", Standaardafwijking) # TEST\n",
    "#\n",
    "# # Mediaan\n",
    "# Mediaan = vrije_tijdsbesteding.median()\n",
    "# print(\"Mediaan ->\", Mediaan) # TEST\n",
    "#\n",
    "# # Interkwantielafstand\n",
    "# from scipy import stats\n",
    "# Interkwantielafstand = stats.iqr(vrije_tijdsbesteding.dropna())\n",
    "# print(\"Interkwantielafstand ->\", Interkwantielafstand) # TEST\n",
    "#\n",
    "#\n",
    "# # Bereik\n",
    "# max = vrije_tijdsbesteding.max()\n",
    "# min = vrije_tijdsbesteding.min()\n",
    "# Bereik = max - min\n",
    "# print(\"Bereik ->\", Bereik) # TEST\n",
    "#\n",
    "# # Modus\n",
    "# Modus = vrije_tijdsbesteding.mean()\n",
    "# print(\"Modus ->\", Modus) # TEST"
   ]
  },
  {
   "cell_type": "code",
   "execution_count": 334,
   "metadata": {},
   "outputs": [],
   "source": [
    "# # Gemiddelde\n",
    "# Gemiddelde = belangrijkheid_om_informaticus_te_worden.sum() / len(vrije_tijdsbesteding)\n",
    "# print(\"Gemiddelde ->\", Gemiddelde) # TEST\n",
    "#\n",
    "# # Standaardafwijking\n",
    "# Standaardafwijking = belangrijkheid_om_informaticus_te_worden.std()\n",
    "# print(\"Standaardafwijking ->\", Standaardafwijking) # TEST\n",
    "#\n",
    "# # Mediaan\n",
    "# Mediaan = belangrijkheid_om_informaticus_te_worden.median()\n",
    "# print(\"Mediaan ->\", Mediaan) # TEST\n",
    "#\n",
    "# # Interkwantielafstand\n",
    "# from scipy import stats\n",
    "# Interkwantielafstand = stats.iqr(belangrijkheid_om_informaticus_te_worden.dropna())\n",
    "# print(\"Interkwantielafstand ->\", Interkwantielafstand) # TEST\n",
    "#\n",
    "#\n",
    "# # Bereik\n",
    "# max = belangrijkheid_om_informaticus_te_worden.max()\n",
    "# min = belangrijkheid_om_informaticus_te_worden.min()\n",
    "# Bereik = max - min\n",
    "# print(\"Bereik ->\", Bereik) # TEST\n",
    "#\n",
    "# # Modus\n",
    "# Modus = belangrijkheid_om_informaticus_te_worden.mean()\n",
    "# print(\"Modus ->\", Modus) # TEST"
   ]
  },
  {
   "cell_type": "markdown",
   "metadata": {
    "id": "JA-e37JKFfYw"
   },
   "source": [
    "#### Vraag 3\n",
    "\n",
    "Van een variabele (X) is het gemiddelde 20, de mediaan 18, de variantie 6 en de interkwartielafstand 4. Bij alle scores wordt 10 opgeteld.\n",
    "\n",
    "Wat is het nieuwe gemiddelde?\n",
    "Wat is de nieuwe mediaan?\n",
    "Wat is de nieuwe variantie?\n",
    "Wat is de nieuwe interkwartielafstand?"
   ]
  },
  {
   "cell_type": "code",
   "metadata": {
    "collapsed": false
   },
   "source": [
    "# Als we bij alle scores 10 optellen, dan zal het gemiddelde ook met 10 toenemen, maar de mediaan en interkwartielafstand zullen niet veranderen. De variantie zal echter wel veranderen omdat deze afhankelijk is van de spreiding van de gegevens. Om preciezer te zijn, zal de variantie toenemen met een factor 1 (aangezien we 10 optellen aan alle scores), dus de nieuwe variantie zal 6 + 1 = 7 zijn.\n",
    "\n",
    "# Wat is het nieuwe gemiddelde?\t\t\t    (nieuw gemiddelde = 20 + 10 = 30)\n",
    "# Wat is de nieuwe mediaan? \t\t    \t(nieuwe mediaan = 18)\n",
    "# Wat is de nieuwe variantie?               (nieuwe variantie = 6 + 1 = 7)\n",
    "# Wat is de nieuwe interkwartielafstand? \t(nieuwe variantie = 6 + 1 = 7)\n",
    "\n",
    "# Nu we de nieuwe gemiddelde, mediaan, variantie en interkwartielafstand hebben berekend, kunnen we concluderen dat het toevoegen van een constante aan alle scores alleen het gemiddelde en de variantie zal veranderen, maar de mediaan en interkwartielafstand blijven ongewijzigd."
   ],
   "execution_count": 335,
   "outputs": []
  },
  {
   "cell_type": "markdown",
   "metadata": {
    "id": "FQrTXIRiFfYy"
   },
   "source": [
    "#### Vraag 4\n",
    "\n",
    "Van een frequentieverdeling worden alle scores door 4 gedeeld. Wat weten we van de standaardafwijking van deze nieuwe scores?\n",
    "\n",
    "- gelijk aan die van de oorspronkelijke score\n",
    "- 2x zo klein als die van de oorspronkelijke score\n",
    "- 4x zo klein als die van de oorspronkelijke score\n",
    "- 16x zo klein als die van de oorspronkelijke score\n"
   ]
  },
  {
   "cell_type": "code",
   "metadata": {
    "id": "--yK3N-zFfYz"
   },
   "source": [
    "# 4x zo klein als die van de oorspronkelijke score"
   ],
   "execution_count": 336,
   "outputs": []
  },
  {
   "cell_type": "markdown",
   "metadata": {
    "id": "DDZjY0CtFfY0"
   },
   "source": [
    "#### Vraag 5\n",
    "\n",
    "De gemiddelde leeftijd van deze klas is 20 met een standaardafwijking van 2. Binnen 20 jaar is er een reunie.  Iedereen leeft nog en is aanwezig.\n",
    "Hoe groot is het gemiddelde en de standaardafwijking over 20 jaar?\n",
    "\n",
    "* 40 en 2 jaar\n",
    "* 40 en 4 jaar\n",
    "* 40 en 1 jaar\n",
    "* niet te bepalen, er zijn te weinig gegevens"
   ]
  },
  {
   "cell_type": "code",
   "execution_count": 337,
   "metadata": {},
   "outputs": [],
   "source": [
    "# niet te bepalen, er zijn te weinig gegevens\n",
    "\n",
    "# Het gemiddelde zal inderdaad 20 jaar + 20 jaar = 40 jaar zijn, omdat de leeftijd van iedereen met 20 jaar is toegenomen.\n",
    "# De standaardafwijking kan worden berekend met behulp van de formule voor de standaardfout van het gemiddelde:\n",
    "# standaardfout = standaardafwijking / wortel(n)\n",
    "# waarbij n het aantal observaties is. Aangezien alle studenten nog leven en aanwezig zijn, hebben we nog steeds dezelfde hoeveelheid gegevens als aan het begin, dus n is gelijk aan het oorspronkelijke aantal studenten.\n",
    "# Dus, de nieuwe standaardafwijking = 2 / wortel(n) = 2 / wortel(n), waarbij n het oorspronkelijke aantal studenten is.\n",
    "# Aangezien we niet weten wat het oorspronkelijke aantal studenten is, kunnen we geen exact antwoord geven op de vraag."
   ]
  },
  {
   "cell_type": "markdown",
   "metadata": {
    "id": "thg-ElohFfY3"
   },
   "source": [
    "#### Vraag 6\n",
    "\n",
    "De verdeling van scores heeft een gemiddelde van 8 met een standaarddeviatie van 2. We willen de scores zodanig transformeren dat het gemiddelde gelijk wordt aan 10 en de standaarddeviatie gelijk aan 4. Wat moeten we dan met alle scores doen?\n",
    "\n",
    "* met 2 vermenigvuldigen\n",
    "* met 2 vermeerderen\n",
    "* met 2 vermenigvuldigen en dan met 2 vermeerderen\n",
    "* met 2 vermeerderen en dan 2 vermenigvuldigen\n",
    "* met 2 vermenigvuldigen en dan met 6 verminderen\n"
   ]
  },
  {
   "cell_type": "code",
   "execution_count": 338,
   "metadata": {},
   "outputs": [],
   "source": [
    "# met 2 vermenigvuldigen en dan met 6 verminderen\n",
    "\n",
    "# Om de scores te transformeren naar een gemiddelde van 10 en een standaarddeviatie van 4, moeten we de scores eerst centreren en schalen. Dit betekent dat we de scores moeten verschuiven zodat het gemiddelde 8 naar 10 gaat, en we moeten de scores vervolgens vermenigvuldigen zodat de standaarddeviatie van 2 naar 4 gaat.\n",
    "\n",
    "# Om de scores te centreren en schalen, moeten we de volgende stappen volgen:\n",
    "# Centreren: We trekken het oude gemiddelde (8) af van elke score om de scores te centreren rond nul. Dit betekent dat we van elke score 8 aftrekken.\n",
    "# Schalen: We delen de gecentreerde scores door de oude standaarddeviatie (2) om de scores te schalen naar een standaarddeviatie van 1. Dit betekent dat we elke gecentreerde score door 2 delen.\n",
    "# Nieuw gemiddelde: We voegen het nieuwe gemiddelde (10) toe aan elke gecentreerde en geschaalde score om de scores te verplaatsen naar een gemiddelde van 10.\n",
    "# Nieuwe standaarddeviatie: We vermenigvuldigen de gecentreerde en geschaalde scores met de nieuwe standaarddeviatie (4) om de scores te schalen naar een standaarddeviatie van 4.\n",
    "# In formulevorm ziet dit er als volgt uit:\n",
    "# nieuwe_score = (oude_score - 8) / 2 * 4 + 10\n",
    "# Dus om de scores te transformeren naar een gemiddelde van 10 en een standaarddeviatie van 4, moeten we elke score aftrekken van 8, vervolgens delen door 2, dan vermenigvuldigen met 4 en ten slotte optellen bij 10.\n",
    "# Antwoord: met 2 vermenigvuldigen, dan met 6 verminderen."
   ]
  },
  {
   "cell_type": "markdown",
   "metadata": {
    "collapsed": false
   },
   "source": [
    "#### Vraag 7 (*) (wiskundig)\n",
    "\n",
    "*Deze oefening is wat moeilijker en ze kan eventueel overgeslagen worden, maar je kan natuurlijk wel altijd eens proberen.*\n",
    "\n",
    "Van een frequentieverdeling (populatie) is het gemiddelde $M$ gelijk aan 7 en de standaardafwijking gelijk aan 2.3.\n",
    "\n",
    "Er blijkt echter een invoerfout bij de scores gemaakt te zijn: één score van 6 had een 5 moeten zijn. Na herstel\n",
    "berekenen we opnieuw.\n",
    "\n",
    "- Hoe groot is dan het nieuwe gemiddelde?\n",
    "- Stel een formule op in functie van n, het aantal waarnemingen om het verschil (nieuwe variantie -  oude variantie ) te berekenen.\n",
    "\n",
    "HINT:  $var(X)=\\frac{1}{n}\\sum\\limits_{i=1}^n x_i^2 - M^2$\n",
    "\n",
    "- Wat weten we van de standaardafwijking?\n",
    "  * kleiner dan 2.3\n",
    "  * gelijk aan 2.3\n",
    "  * groter dan 2.3\n",
    "  * dit kunnen we niet weten"
   ]
  },
  {
   "cell_type": "code",
   "metadata": {
    "collapsed": false
   },
   "source": [
    "# dit kunnen we niet weten\n",
    "\n",
    "# Om het nieuwe gemiddelde te berekenen moeten we de invoerfout corrigeren en vervolgens het gemiddelde opnieuw berekenen. Dit betekent dat we 1 moeten optellen bij de score van 5 om de correcte score van 6 te krijgen. Het nieuwe gemiddelde wordt dan:\n",
    "# Nieuwe gemiddelde = (som van scores) / aantal waarnemingen\n",
    "# = (5 + 6n + 7(n-1)) / n\n",
    "# = (5n + 7n - 7) / n\n",
    "# = (12n - 7) / n\n",
    "\n",
    "# Dus het nieuwe gemiddelde is (12n - 7) / n.\n",
    "# Om het verschil tussen de nieuwe en oude variantie te berekenen, moeten we de oude en nieuwe variantie berekenen en deze van elkaar aftrekken. De oude variantie is gelijk aan 2.3^2 = 5.29, zoals gegeven in de vraag. Voor de nieuwe variantie hebben we de som van de kwadraten van de afwijkingen nodig. De afwijkingen zijn de scores minus het nieuwe gemiddelde, dus de som van de kwadraten van de afwijkingen wordt:\n",
    "# som van (x - nieuw gemiddelde)^2 = (5 - nieuw gemiddelde)^2 + (6 - nieuw gemiddelde)^2 + ... + (7 - nieuw gemiddelde)^2\n",
    "\n",
    "# Dit is echter een lastige som om uit te rekenen. Gelukkig hebben we een handige formule om de variantie uit te rekenen:\n",
    "\n",
    "# var(X) = (som van x^2) / n - gemiddelde^2\n",
    "#\n",
    "# Met deze formule kunnen we de nieuwe variantie berekenen als:\n",
    "#\n",
    "# nieuwe variantie = (5^2 + 6^2 + ... + (12n-5)^2) / n - nieuw gemiddelde^2\n",
    "#\n",
    "# Nu kunnen we het verschil tussen de nieuwe en oude variantie als volgt berekenen:\n",
    "#\n",
    "# verschil = nieuwe variantie - oude variantie\n",
    "# = [(5^2 + 6^2 + ... + (12n-5)^2) / n - (12n - 7)^2 / n] - 5.29\n",
    "\n",
    "# Dus de formule voor het verschil tussen de nieuwe en oude variantie is:\n",
    "\n",
    "# verschil = [(5^2 + 6^2 + ... + (12n-5)^2) / n - (12n - 7)^2 / n] - 5.29\n",
    "#\n",
    "# Tot slot, we weten dat de standaardafwijking gelijk is aan de wortel van de variantie. Aangezien we niet weten hoeveel waarnemingen er zijn, kunnen we niet weten wat de nieuwe standaardafwijking zal zijn.\n",
    "\n"
   ],
   "execution_count": 339,
   "outputs": []
  },
  {
   "cell_type": "markdown",
   "metadata": {
    "id": "q3xfn7psFfY4"
   },
   "source": [
    "#### Vraag 8\n",
    "\n",
    "Laad het bestand “UofS_access_log.small” in terug in (zie oefeningen over frequenties)."
   ]
  },
  {
   "cell_type": "code",
   "execution_count": 340,
   "metadata": {},
   "outputs": [],
   "source": [
    "data = pd.read_csv(\"data/UofS_access_log.small\", sep=\" \", encoding=\"latin\", header=None, on_bad_lines='skip')"
   ]
  },
  {
   "cell_type": "code",
   "execution_count": 341,
   "outputs": [
    {
     "data": {
      "text/plain": "                            client                         date  \\\n0              cad49.cadvision.com  [01/Jun/1995:00:53:19-0600]   \n1                    130.89.250.24  [01/Jun/1995:02:45:12-0600]   \n2                    130.54.25.198  [01/Jun/1995:03:29:56-0600]   \n3                     148.81.17.41  [01/Jun/1995:04:02:17-0600]   \n4      anumsun6.univ-st-etienne.fr  [01/Jun/1995:04:40:30-0600]   \n...                            ...                          ...   \n48166                duke.usask.ca  [31/Dec/1995:23:07:50-0600]   \n48167                sask.usask.ca  [31/Dec/1995:23:16:16-0600]   \n48168                  144.92.13.6  [31/Dec/1995:23:25:53-0600]   \n48169            ccc055.canuck.com  [31/Dec/1995:23:32:35-0600]   \n48170      double-tree.ericsson.se  [31/Dec/1995:23:44:25-0600]   \n\n                                             request  response_code  \\\n0            GET /~lowey/webville/icons/blank_32.gif            200   \n1            GET /~lowey/webville/icons/south_32.gif            200   \n2      GET /~macphed/finite/fe_resources/node92.html            200   \n3               GET /~friesend/tolkien/rootpage.html            200   \n4      GET /~macphed/finite/fe_resources/node58.html            200   \n...                                              ...            ...   \n48166           GET /images/comments_50.gif HTTP/1.0            200   \n48167                                 GET / HTTP/1.0            200   \n48168                  GET /~ladd/virginia_pisu.html            200   \n48169               GET /mlookup/white.html HTTP/1.0            200   \n48170                       GET /~scottp/calgary.txt            200   \n\n       response_length  \n0                  167  \n1                  210  \n2                 1668  \n3                  461  \n4                 1707  \n...                ...  \n48166              388  \n48167             3856  \n48168              915  \n48169              728  \n48170            24744  \n\n[48171 rows x 5 columns]",
      "text/html": "<div>\n<style scoped>\n    .dataframe tbody tr th:only-of-type {\n        vertical-align: middle;\n    }\n\n    .dataframe tbody tr th {\n        vertical-align: top;\n    }\n\n    .dataframe thead th {\n        text-align: right;\n    }\n</style>\n<table border=\"1\" class=\"dataframe\">\n  <thead>\n    <tr style=\"text-align: right;\">\n      <th></th>\n      <th>client</th>\n      <th>date</th>\n      <th>request</th>\n      <th>response_code</th>\n      <th>response_length</th>\n    </tr>\n  </thead>\n  <tbody>\n    <tr>\n      <th>0</th>\n      <td>cad49.cadvision.com</td>\n      <td>[01/Jun/1995:00:53:19-0600]</td>\n      <td>GET /~lowey/webville/icons/blank_32.gif</td>\n      <td>200</td>\n      <td>167</td>\n    </tr>\n    <tr>\n      <th>1</th>\n      <td>130.89.250.24</td>\n      <td>[01/Jun/1995:02:45:12-0600]</td>\n      <td>GET /~lowey/webville/icons/south_32.gif</td>\n      <td>200</td>\n      <td>210</td>\n    </tr>\n    <tr>\n      <th>2</th>\n      <td>130.54.25.198</td>\n      <td>[01/Jun/1995:03:29:56-0600]</td>\n      <td>GET /~macphed/finite/fe_resources/node92.html</td>\n      <td>200</td>\n      <td>1668</td>\n    </tr>\n    <tr>\n      <th>3</th>\n      <td>148.81.17.41</td>\n      <td>[01/Jun/1995:04:02:17-0600]</td>\n      <td>GET /~friesend/tolkien/rootpage.html</td>\n      <td>200</td>\n      <td>461</td>\n    </tr>\n    <tr>\n      <th>4</th>\n      <td>anumsun6.univ-st-etienne.fr</td>\n      <td>[01/Jun/1995:04:40:30-0600]</td>\n      <td>GET /~macphed/finite/fe_resources/node58.html</td>\n      <td>200</td>\n      <td>1707</td>\n    </tr>\n    <tr>\n      <th>...</th>\n      <td>...</td>\n      <td>...</td>\n      <td>...</td>\n      <td>...</td>\n      <td>...</td>\n    </tr>\n    <tr>\n      <th>48166</th>\n      <td>duke.usask.ca</td>\n      <td>[31/Dec/1995:23:07:50-0600]</td>\n      <td>GET /images/comments_50.gif HTTP/1.0</td>\n      <td>200</td>\n      <td>388</td>\n    </tr>\n    <tr>\n      <th>48167</th>\n      <td>sask.usask.ca</td>\n      <td>[31/Dec/1995:23:16:16-0600]</td>\n      <td>GET / HTTP/1.0</td>\n      <td>200</td>\n      <td>3856</td>\n    </tr>\n    <tr>\n      <th>48168</th>\n      <td>144.92.13.6</td>\n      <td>[31/Dec/1995:23:25:53-0600]</td>\n      <td>GET /~ladd/virginia_pisu.html</td>\n      <td>200</td>\n      <td>915</td>\n    </tr>\n    <tr>\n      <th>48169</th>\n      <td>ccc055.canuck.com</td>\n      <td>[31/Dec/1995:23:32:35-0600]</td>\n      <td>GET /mlookup/white.html HTTP/1.0</td>\n      <td>200</td>\n      <td>728</td>\n    </tr>\n    <tr>\n      <th>48170</th>\n      <td>double-tree.ericsson.se</td>\n      <td>[31/Dec/1995:23:44:25-0600]</td>\n      <td>GET /~scottp/calgary.txt</td>\n      <td>200</td>\n      <td>24744</td>\n    </tr>\n  </tbody>\n</table>\n<p>48171 rows × 5 columns</p>\n</div>"
     },
     "metadata": {},
     "output_type": "display_data"
    }
   ],
   "source": [
    "client = data.iloc[:,0]\n",
    "date = data.iloc[:,3] + data.iloc[:,4]\n",
    "request = data.iloc[:,5]\n",
    "response_code = data.iloc[:,6]\n",
    "response_length = data.iloc[:,7]\n",
    "log = pd.DataFrame({\n",
    "    \"client\":client,\n",
    "    \"date\":date,\n",
    "    \"request\":request,\n",
    "    \"response_code\":response_code,\n",
    "    \"response_length\":response_length\n",
    "})\n",
    "\n",
    "log['response_length'] = log['response_length'].replace('-', 0).astype(int)\n",
    "\n",
    "display(log) # Test"
   ],
   "metadata": {
    "collapsed": false
   }
  },
  {
   "cell_type": "markdown",
   "metadata": {
    "collapsed": false,
    "id": "_Tiom8QGz9P2"
   },
   "source": [
    "a. Maak een histogram van het aantal bytes die er verstuurd zijn, met een klassebreedte van 1000 bytes.  Wat zie je?  Hoe komt dit?"
   ]
  },
  {
   "cell_type": "code",
   "execution_count": 342,
   "metadata": {},
   "outputs": [
    {
     "data": {
      "text/plain": "<Figure size 640x480 with 1 Axes>",
      "image/png": "[encoded data removed]"
     },
     "metadata": {},
     "output_type": "display_data"
    }
   ],
   "source": [
    "# Er zijn een paar delen veel hoger Als de rest. (uitschieters)\n",
    "cutpoints = range(0,50001,1000)\n",
    "\n",
    "klassen = pd.cut(log['response_length'],bins=cutpoints)\n",
    "\n",
    "data = klassen.value_counts().sort_index()\n",
    "\n",
    "fig,axes = plt.subplots()\n",
    "\n",
    "_=axes.hist(data,edgecolor='black',label='Bytes')\n",
    "_=axes.set_title('Bytes')\n",
    "_=axes.set_xlabel('Bytes')\n",
    "_=axes.set_ylabel('Frequentie')\n",
    "_=axes.legend()"
   ]
  },
  {
   "cell_type": "markdown",
   "metadata": {
    "collapsed": false,
    "id": "WiewM7z7z9P4"
   },
   "source": [
    "b. Maak een nieuw histogram met alle berichten tot 13000 bytes lang (zelfde klassebreedte).  Zorg dat de linkergrens altijd tot het interval behoort."
   ]
  },
  {
   "cell_type": "code",
   "execution_count": 343,
   "metadata": {},
   "outputs": [
    {
     "data": {
      "text/plain": "<Figure size 640x480 with 1 Axes>",
      "image/png": "[encoded data removed]"
     },
     "metadata": {},
     "output_type": "display_data"
    }
   ],
   "source": [
    "# org dat de linkergrens altijd tot het interval behoort. -> ( include_lowest=True ) + ( align='left' )\n",
    "cutpoints = range(0,13001,1000)\n",
    "\n",
    "klassen = pd.cut(log['response_length'],bins=cutpoints, include_lowest=True)\n",
    "\n",
    "data = klassen.value_counts().sort_index()\n",
    "\n",
    "fig,axes = plt.subplots()\n",
    "\n",
    "_=axes.hist(data,edgecolor='black',label='Bytes', align='left')\n",
    "_=axes.set_title('Bytes')\n",
    "_=axes.set_xlabel('Bytes')\n",
    "_=axes.set_ylabel('Frequentie')\n",
    "_=axes.legend()"
   ]
  },
  {
   "cell_type": "markdown",
   "metadata": {
    "collapsed": false,
    "id": "4U_LD6XVz9P5"
   },
   "source": [
    "c. Wat is de modus hiervan?"
   ]
  },
  {
   "cell_type": "code",
   "execution_count": 344,
   "metadata": {},
   "outputs": [
    {
     "name": "stdout",
     "output_type": "stream",
     "text": [
      "[0]\n"
     ]
    }
   ],
   "source": [
    "modus = log.response_length.mode()\n",
    "\n",
    "print(modus.values) # TEST"
   ]
  },
  {
   "cell_type": "markdown",
   "metadata": {
    "collapsed": false,
    "id": "hLGr4kZPz9P6"
   },
   "source": [
    "d. Wat is het gemiddeld aantal verstuurde bytes (4 beduidende cijfers)?"
   ]
  },
  {
   "cell_type": "code",
   "execution_count": 345,
   "metadata": {},
   "outputs": [
    {
     "name": "stdout",
     "output_type": "stream",
     "text": [
      "5391.912\n"
     ]
    }
   ],
   "source": [
    "# gemiddeld = log.response_length.sum() / len(log.response_length)\n",
    "gemiddeld = log.response_length.mean()\n",
    "\n",
    "print(round(gemiddeld, 4)) # TEST"
   ]
  },
  {
   "cell_type": "markdown",
   "metadata": {
    "collapsed": false,
    "id": "8PioZEZnz9P8"
   },
   "source": [
    "e. Wat is de standaardafwijking van het aantal verstuurde bytes?  (4 beduidende cijfers)  Wat wil dit zeggen?"
   ]
  },
  {
   "cell_type": "code",
   "execution_count": 346,
   "metadata": {},
   "outputs": [
    {
     "name": "stdout",
     "output_type": "stream",
     "text": [
      "21181.9976\n"
     ]
    }
   ],
   "source": [
    "standaardafwijking = log.response_length.std()\n",
    "\n",
    "print(round(standaardafwijking, 4)) # TEST\n",
    "\n",
    "# Dat er een gemiddelde verschil tussen de getallen zit van 21181,9976"
   ]
  },
  {
   "cell_type": "markdown",
   "metadata": {
    "collapsed": false,
    "id": "4iNoe5mZz9P8"
   },
   "source": [
    "f. Wat zijn de kwartielen van het aantal verstuurde bytes?"
   ]
  },
  {
   "cell_type": "code",
   "execution_count": 347,
   "metadata": {},
   "outputs": [
    {
     "name": "stdout",
     "output_type": "stream",
     "text": [
      "0.25     461.0\n",
      "0.50    1714.0\n",
      "0.75    3442.0\n",
      "Name: response_length, dtype: float64\n"
     ]
    }
   ],
   "source": [
    "kwartielen = log.response_length.quantile(q = [0.25,0.5,0.75])\n",
    "\n",
    "print(round(kwartielen, 4)) # TEST"
   ]
  },
  {
   "cell_type": "markdown",
   "metadata": {
    "collapsed": false,
    "id": "bUuQroSkz9P9"
   },
   "source": [
    "g. Wat is de betekenis van het derde kwartiel?"
   ]
  },
  {
   "cell_type": "code",
   "execution_count": 348,
   "metadata": {},
   "outputs": [],
   "source": [
    " # Q1 (0.25 461.0)      -> 25% is kleiner dan 461.0 en in extensie betekent dat dat 75% groter is.\n",
    " # Q2 (0.50 1714.0)     -> Dit is de mediaan\n",
    " # Q3 (0.75 3442.0)     -> 75% is kleiner dan 3442.0 en in extensie betekent dat dat 25% groter is."
   ]
  },
  {
   "cell_type": "markdown",
   "metadata": {
    "collapsed": false,
    "id": "FsRN0LI4z9P-"
   },
   "source": [
    "h. Wat is de interkwartielafstand van het aantal verstuurde bytes?  Wat betekent dit?"
   ]
  },
  {
   "cell_type": "code",
   "execution_count": 349,
   "metadata": {},
   "outputs": [
    {
     "name": "stdout",
     "output_type": "stream",
     "text": [
      "2981.0\n"
     ]
    }
   ],
   "source": [
    "# De interkwartielafstand (IQR) is het verschil tussen Q3 en Q1.\n",
    "\n",
    "from scipy import stats\n",
    "\n",
    "interkwartielafstand = stats.iqr(log.response_length.dropna())\n",
    "print(interkwartielafstand)"
   ]
  },
  {
   "cell_type": "markdown",
   "metadata": {
    "collapsed": false,
    "id": "zLmAfk2mz9QA"
   },
   "source": [
    "i. Maak een boxplot van het aantal verstuurde bytes.  Hoe interpreteer je deze grafiek?"
   ]
  },
  {
   "cell_type": "code",
   "execution_count": 356,
   "metadata": {},
   "outputs": [
    {
     "name": "stdout",
     "output_type": "stream",
     "text": [
      "Axes(0.125,0.11;0.775x0.77)\n"
     ]
    },
    {
     "data": {
      "text/plain": "<Figure size 640x480 with 1 Axes>",
      "image/png": "[encoded data removed]"
     },
     "metadata": {},
     "output_type": "display_data"
    }
   ],
   "source": [
    "# De grafiek is niet makkelijk leesbaar, Omdat er zeer veel outlines zijn.\n",
    "import matplotlib.pyplot as plt\n",
    "fig,ax = plt.subplots()\n",
    "\n",
    "boxplot = log.boxplot(ax=ax, column=['response_length'])\n",
    "\n",
    "print(boxplot)"
   ]
  },
  {
   "cell_type": "markdown",
   "metadata": {
    "collapsed": false,
    "id": "6As_bQfKz9QA"
   },
   "source": [
    "j. Hoeveel uitschieters zijn er?  Wat is het minimum van deze uitschieters?"
   ]
  },
  {
   "cell_type": "code",
   "execution_count": 368,
   "metadata": {},
   "outputs": [
    {
     "name": "stdout",
     "output_type": "stream",
     "text": [
      "Q1 -> 461.0\n",
      "Q3 -> 3442.0\n",
      "IQR -> 2981.0\n",
      "Outliers aantal -> 5457\n",
      "Outliers min -> 7930\n"
     ]
    }
   ],
   "source": [
    "Q1 = log.response_length.quantile(0.25)\n",
    "Q3 = log.response_length.quantile(0.75)\n",
    "IQR = Q3 - Q1\n",
    "\n",
    "Outliers = log.response_length[(log.response_length <  (Q1 - 1.5 *  IQR)) | (log.response_length  > (Q3 +  1.5 * IQR))]\n",
    "\n",
    "OutliersAantal = len(Outliers)\n",
    "OutliersMin = Outliers.min()\n",
    "\n",
    "print(\"Q1 ->\", Q1)\n",
    "print(\"Q3 ->\", Q3)\n",
    "print(\"IQR ->\", IQR)\n",
    "print(\"Outliers aantal ->\", OutliersAantal)\n",
    "print(\"Outliers min ->\", OutliersMin)"
   ]
  },
  {
   "cell_type": "markdown",
   "metadata": {
    "collapsed": false,
    "id": "qqaAIv88z9QB"
   },
   "source": [
    "k. Verwijder de uitschieters en maak terug een boxplot (er ontstaan hier weer outliers, maar zoek een optie bij boxplot om deze niet te tekenen)"
   ]
  },
  {
   "cell_type": "code",
   "execution_count": 370,
   "metadata": {},
   "outputs": [
    {
     "name": "stdout",
     "output_type": "stream",
     "text": [
      "Axes(0.125,0.11;0.775x0.77)\n"
     ]
    },
    {
     "data": {
      "text/plain": "<Figure size 640x480 with 1 Axes>",
      "image/png": "[encoded data removed]"
     },
     "metadata": {},
     "output_type": "display_data"
    }
   ],
   "source": [
    "lower_bound = Q1 - IQR * 1.5\n",
    "upper_bound = Q3 + IQR * 1.5\n",
    "\n",
    "log = log[(log['response_length'] >= lower_bound) & (log['response_length'] <= upper_bound)]\n",
    "\n",
    "import matplotlib.pyplot as plt\n",
    "fig,ax = plt.subplots()\n",
    "\n",
    "boxplot = log.boxplot(ax=ax, column=['response_length'])\n",
    "\n",
    "print(boxplot)"
   ]
  },
  {
   "cell_type": "code",
   "execution_count": 371,
   "metadata": {},
   "outputs": [
    {
     "name": "stdout",
     "output_type": "stream",
     "text": [
      "Axes(0.125,0.11;0.775x0.77)\n"
     ]
    },
    {
     "data": {
      "text/plain": "<Figure size 640x480 with 1 Axes>",
      "image/png": "[encoded data removed]"
     },
     "metadata": {},
     "output_type": "display_data"
    }
   ],
   "source": [
    "import matplotlib.pyplot as plt\n",
    "fig,ax = plt.subplots()\n",
    "\n",
    "boxplot = log.boxplot(ax=ax, column=['response_length'], showfliers=False)\n",
    "\n",
    "print(boxplot)"
   ]
  }
 ],
 "metadata": {
  "colab": {
   "collapsed_sections": [],
   "name": "2_Opgaveboek - spreidingsmaten - oplossingen.ipynb",
   "provenance": []
  },
  "kernelspec": {
   "display_name": "Python 3",
   "language": "python",
   "name": "python3"
  },
  "language_info": {
   "codemirror_mode": {
    "name": "ipython",
    "version": 3
   },
   "file_extension": ".py",
   "mimetype": "text/x-python",
   "name": "python",
   "nbconvert_exporter": "python",
   "pygments_lexer": "ipython3",
   "version": "3.7.4"
  }
 },
 "nbformat": 4,
 "nbformat_minor": 0
}
