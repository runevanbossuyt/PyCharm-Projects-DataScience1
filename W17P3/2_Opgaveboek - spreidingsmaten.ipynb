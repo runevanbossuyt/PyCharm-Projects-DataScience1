{
 "cells": [
  {
   "cell_type": "markdown",
   "metadata": {
    "id": "0F-YcBgV62mD"
   },
   "source": [
    "Setup"
   ]
  },
  {
   "cell_type": "code",
   "execution_count": null,
   "metadata": {},
   "outputs": [],
   "source": [
    "# hier komt jouw oplossing"
   ]
  },
  {
   "cell_type": "markdown",
   "metadata": {
    "id": "LZnY8F-IFfYZ"
   },
   "source": [
    "## Spreidingsmaten\n",
    "\n",
    "### Redeneervragen"
   ]
  },
  {
   "cell_type": "markdown",
   "metadata": {
    "collapsed": false,
    "pycharm": {
     "name": "#%% md\n"
    }
   },
   "source": [
    "#### Vraag 1\n",
    "\n",
    "Bij de test over centrummaten werden volgende resultaten in de frequentietabel genoteerd:\n",
    "\n",
    "|score |17 |18 |19 |20 |21 |22 |23 |24 |\n",
    "|------|---|---|---|---|---|---|---|---|\n",
    "|f     |5  |6  |17 |23 |32 |10 |10 | 7 |"
   ]
  },
  {
   "cell_type": "markdown",
   "metadata": {
    "collapsed": false,
    "pycharm": {
     "name": "#%% md\n"
    }
   },
   "source": [
    "- Zet de frequentietabel om naar de originele gegevens m.b.v. Numpy en een Pandas Series."
   ]
  },
  {
   "cell_type": "code",
   "execution_count": null,
   "metadata": {},
   "outputs": [],
   "source": [
    "# hier komt jouw oplossing"
   ]
  },
  {
   "cell_type": "markdown",
   "metadata": {
    "collapsed": false,
    "pycharm": {
     "name": "#%% md\n"
    }
   },
   "source": [
    "- Wat is het bereik van deze test?"
   ]
  },
  {
   "cell_type": "code",
   "execution_count": null,
   "metadata": {},
   "outputs": [],
   "source": [
    "# hier komt jouw oplossing"
   ]
  },
  {
   "cell_type": "markdown",
   "metadata": {
    "collapsed": false,
    "pycharm": {
     "name": "#%% md\n"
    }
   },
   "source": [
    "- Wat is de waarde van de interkwartielafstand?"
   ]
  },
  {
   "cell_type": "code",
   "execution_count": null,
   "metadata": {},
   "outputs": [],
   "source": [
    "# hier komt jouw oplossing"
   ]
  },
  {
   "cell_type": "markdown",
   "metadata": {
    "collapsed": false,
    "pycharm": {
     "name": "#%% md\n"
    }
   },
   "source": [
    "- Wat betekent deze interkwartielafstand?"
   ]
  },
  {
   "cell_type": "code",
   "execution_count": null,
   "metadata": {},
   "outputs": [],
   "source": [
    "# hier komt jouw oplossing"
   ]
  },
  {
   "cell_type": "markdown",
   "metadata": {
    "collapsed": false
   },
   "source": [
    "- Teken een boxplot"
   ]
  },
  {
   "cell_type": "code",
   "execution_count": null,
   "metadata": {},
   "outputs": [],
   "source": [
    "# hier komt jouw oplossing"
   ]
  },
  {
   "cell_type": "markdown",
   "metadata": {
    "collapsed": false
   },
   "source": [
    "- Wat is er speciaal aan deze boxplot?  Hoe komt dit?"
   ]
  },
  {
   "cell_type": "code",
   "execution_count": null,
   "metadata": {},
   "outputs": [],
   "source": [
    "# hier komt jouw oplossing"
   ]
  },
  {
   "cell_type": "markdown",
   "metadata": {
    "collapsed": false
   },
   "source": [
    "- Wat is de standaardafwijking (4 beduidende cijfers, gebruik de `signif` functie uit `hulpfuncties.py`)?"
   ]
  },
  {
   "cell_type": "code",
   "execution_count": null,
   "metadata": {},
   "outputs": [],
   "source": [
    "# hier komt jouw oplossing"
   ]
  },
  {
   "cell_type": "markdown",
   "metadata": {
    "id": "aP9F365jFfYn"
   },
   "source": [
    "#### Vraag 2\n",
    "\n",
    "Uit een studenten enquete halen we:\n",
    "\n",
    "|'vrije tijdsbesteding' |Gamen|Jeugdbeweging|Internet, Sociale Media|Film en TV series|Muziek|Sport|Lezen|Andere|Dansen|\n",
    "|------|---|---|---|---|---|---|---|---|---|\n",
    "|frequentie                                |25    |7            |5                       |7               |10     |23|1|5|1\n",
    "\n",
    "\n",
    "|'belangrijkheid om informaticus te worden' |extreem|zeer groot|groot|matig|\n",
    "|------|---|---|---|---|\n",
    "|frequentie  |17|  25|44 |11   |"
   ]
  },
  {
   "cell_type": "markdown",
   "metadata": {
    "collapsed": false,
    "pycharm": {
     "name": "#%% md\n"
    }
   },
   "source": [
    "Op welke meetschaal zijn de deze gegevens gemeten?"
   ]
  },
  {
   "cell_type": "code",
   "execution_count": null,
   "metadata": {},
   "outputs": [],
   "source": [
    "# hier komt jouw oplossing"
   ]
  },
  {
   "cell_type": "markdown",
   "metadata": {
    "collapsed": false
   },
   "source": [
    "Zet deze gegevens eerst om naar twee Pandas Categoricals. Hou rekening met de meetschaal."
   ]
  },
  {
   "cell_type": "code",
   "execution_count": null,
   "metadata": {},
   "outputs": [],
   "source": [
    "# hier komt jouw oplossing"
   ]
  },
  {
   "cell_type": "markdown",
   "metadata": {
    "collapsed": false,
    "pycharm": {
     "name": "#%% md\n"
    }
   },
   "source": [
    "Welke van de volgende waarden kun je berekenen (leg uit) voor de variabele 'vrije tijdsbesteding' en voor de variabele 'belangrijkheid om informaticus te worden' wat is hun waarde?\n",
    "\n",
    "- Gemiddelde\n",
    "- Standaardafwijking\n",
    "- Mediaan\n",
    "- Interkwantielafstand\n",
    "- Bereik\n",
    "- Modus"
   ]
  },
  {
   "cell_type": "code",
   "execution_count": null,
   "metadata": {},
   "outputs": [],
   "source": [
    "# hier komt jouw oplossing"
   ]
  },
  {
   "cell_type": "code",
   "execution_count": null,
   "metadata": {},
   "outputs": [],
   "source": [
    "# hier komt jouw oplossing"
   ]
  },
  {
   "cell_type": "markdown",
   "metadata": {
    "id": "JA-e37JKFfYw"
   },
   "source": [
    "#### Vraag 3\n",
    "\n",
    "Van een variabele (X) is het gemiddelde 20, de mediaan 18, de variantie 6 en de interkwartielafstand 4. Bij alle scores wordt 10 opgeteld.\n",
    "\n",
    "Wat is het nieuwe gemiddelde?\n",
    "Wat is de nieuwe mediaan?\n",
    "Wat is de nieuwe variantie?\n",
    "Wat is de nieuwe interkwartielafstand?"
   ]
  },
  {
   "cell_type": "code",
   "metadata": {
    "collapsed": false,
    "pycharm": {
     "name": "#%%\n"
    }
   },
   "source": [
    "# hier komt jouw oplossing"
   ],
   "execution_count": null,
   "outputs": []
  },
  {
   "cell_type": "markdown",
   "metadata": {
    "id": "FQrTXIRiFfYy"
   },
   "source": [
    "#### Vraag 4\n",
    "\n",
    "Van een frequentieverdeling worden alle scores door 4 gedeeld. Wat weten we van de standaardafwijking van deze nieuwe scores?\n",
    "\n",
    "- gelijk aan die van de oorspronkelijke score\n",
    "- 2x zo klein als die van de oorspronkelijke score\n",
    "- 4x zo klein als die van de oorspronkelijke score\n",
    "- 16x zo klein als die van de oorspronkelijke score\n"
   ]
  },
  {
   "cell_type": "code",
   "metadata": {
    "id": "--yK3N-zFfYz",
    "pycharm": {
     "name": "#%%\n"
    }
   },
   "source": [
    "# hier komt jouw oplossing"
   ],
   "execution_count": null,
   "outputs": []
  },
  {
   "cell_type": "markdown",
   "metadata": {
    "id": "DDZjY0CtFfY0"
   },
   "source": [
    "#### Vraag 5\n",
    "\n",
    "De gemiddelde leeftijd van deze klas is 20 met een standaardafwijking van 2. Binnen 20 jaar is er een reunie.  Iedereen leeft nog en is aanwezig.\n",
    "Hoe groot is het gemiddelde en de standaardafwijking over 20 jaar?\n",
    "\n",
    "* 40 en 2 jaar\n",
    "* 40 en 4 jaar\n",
    "* 40 en 1 jaar\n",
    "* niet te bepalen, er zijn te weinig gegevens"
   ]
  },
  {
   "cell_type": "code",
   "execution_count": null,
   "metadata": {},
   "outputs": [],
   "source": [
    "# hier komt jouw oplossing"
   ]
  },
  {
   "cell_type": "markdown",
   "metadata": {
    "id": "thg-ElohFfY3"
   },
   "source": [
    "#### Vraag 6\n",
    "\n",
    "De verdeling van scores heeft een gemiddelde van 8 met een standaarddeviatie van 2. We willen de scores zodanig transformeren dat het gemiddelde gelijk wordt aan 10 en de standaarddeviatie gelijk aan 4. Wat moeten we dan met alle scores doen?\n",
    "\n",
    "* met 2 vermenigvuldigen\n",
    "* met 2 vermeerderen\n",
    "* met 2 vermenigvuldigen en dan met 2 vermeerderen\n",
    "* met 2 vermeerderen en dan 2 vermenigvuldigen\n",
    "* met 2 vermenigvuldigen en dan met 6 verminderen\n"
   ]
  },
  {
   "cell_type": "code",
   "execution_count": null,
   "metadata": {},
   "outputs": [],
   "source": [
    "# hier komt jouw oplossing"
   ]
  },
  {
   "cell_type": "markdown",
   "metadata": {
    "collapsed": false
   },
   "source": [
    "#### Vraag 7 (*) (wiskundig)\n",
    "\n",
    "*Deze oefening is wat moeilijker en ze kan eventueel overgeslagen worden, maar je kan natuurlijk wel altijd eens proberen.*\n",
    "\n",
    "Van een frequentieverdeling (populatie) is het gemiddelde $M$ gelijk aan 7 en de standaardafwijking gelijk aan 2.3.\n",
    "\n",
    "Er blijkt echter een invoerfout bij de scores gemaakt te zijn: één score van 6 had een 5 moeten zijn. Na herstel\n",
    "berekenen we opnieuw.\n",
    "\n",
    "- Hoe groot is dan het nieuwe gemiddelde?\n",
    "- Stel een formule op in functie van n, het aantal waarnemingen om het verschil (nieuwe variantie -  oude variantie ) te berekenen.\n",
    "\n",
    "HINT:  $var(X)=\\frac{1}{n}\\sum\\limits_{i=1}^n x_i^2 - M^2$\n",
    "\n",
    "- Wat weten we van de standaardafwijking?\n",
    "  * kleiner dan 2.3\n",
    "  * gelijk aan 2.3\n",
    "  * groter dan 2.3\n",
    "  * dit kunnen we niet weten"
   ]
  },
  {
   "cell_type": "code",
   "metadata": {
    "collapsed": false,
    "pycharm": {
     "name": "#%%\n"
    }
   },
   "source": [
    "# hier komt jouw oplossing"
   ],
   "execution_count": null,
   "outputs": []
  },
  {
   "cell_type": "markdown",
   "metadata": {
    "id": "q3xfn7psFfY4"
   },
   "source": [
    "#### Vraag 8\n",
    "\n",
    "Laad het bestand “UofS_access_log” in terug in (zie oefeningen over frequenties).  "
   ]
  },
  {
   "cell_type": "code",
   "execution_count": null,
   "metadata": {},
   "outputs": [],
   "source": [
    "# hier komt jouw oplossing"
   ]
  },
  {
   "cell_type": "markdown",
   "metadata": {
    "collapsed": false,
    "id": "_Tiom8QGz9P2",
    "pycharm": {
     "name": "#%% md\n"
    }
   },
   "source": [
    "a. Maak een histogram van het aantal bytes die er verstuurd zijn, met een klassebreedte van 1000 bytes.  Wat zie je?  Hoe komt dit?"
   ]
  },
  {
   "cell_type": "code",
   "execution_count": null,
   "metadata": {},
   "outputs": [],
   "source": [
    "# hier komt jouw oplossing"
   ]
  },
  {
   "cell_type": "markdown",
   "metadata": {
    "collapsed": false,
    "id": "WiewM7z7z9P4",
    "pycharm": {
     "name": "#%% md\n"
    }
   },
   "source": [
    "b. Maak een nieuw histogram met alle berichten tot 13000 bytes lang (zelfde klassebreedte).  Zorg dat de linkergrens altijd tot het interval behoort."
   ]
  },
  {
   "cell_type": "code",
   "execution_count": null,
   "metadata": {},
   "outputs": [],
   "source": [
    "# hier komt jouw oplossing"
   ]
  },
  {
   "cell_type": "markdown",
   "metadata": {
    "collapsed": false,
    "id": "4U_LD6XVz9P5",
    "pycharm": {
     "name": "#%% md\n"
    }
   },
   "source": [
    "c. Wat is de modus hiervan?"
   ]
  },
  {
   "cell_type": "code",
   "execution_count": null,
   "metadata": {},
   "outputs": [],
   "source": [
    "# hier komt jouw oplossing"
   ]
  },
  {
   "cell_type": "markdown",
   "metadata": {
    "collapsed": false,
    "id": "hLGr4kZPz9P6",
    "pycharm": {
     "name": "#%% md\n"
    }
   },
   "source": [
    "d. Wat is het gemiddeld aantal verstuurde bytes (4 beduidende cijfers)?"
   ]
  },
  {
   "cell_type": "code",
   "execution_count": null,
   "metadata": {},
   "outputs": [],
   "source": [
    "# hier komt jouw oplossing"
   ]
  },
  {
   "cell_type": "markdown",
   "metadata": {
    "collapsed": false,
    "id": "8PioZEZnz9P8",
    "pycharm": {
     "name": "#%% md\n"
    }
   },
   "source": [
    "e. Wat is de standaardafwijking van het aantal verstuurde bytes?  (4 beduidende cijfers)  Wat wil dit zeggen?"
   ]
  },
  {
   "cell_type": "code",
   "execution_count": null,
   "metadata": {},
   "outputs": [],
   "source": [
    "# hier komt jouw oplossing"
   ]
  },
  {
   "cell_type": "markdown",
   "metadata": {
    "collapsed": false,
    "id": "4iNoe5mZz9P8",
    "pycharm": {
     "name": "#%% md\n"
    }
   },
   "source": [
    "f. Wat zijn de kwartielen van het aantal verstuurde bytes?"
   ]
  },
  {
   "cell_type": "code",
   "execution_count": null,
   "metadata": {},
   "outputs": [],
   "source": [
    "# hier komt jouw oplossing"
   ]
  },
  {
   "cell_type": "markdown",
   "metadata": {
    "collapsed": false,
    "id": "bUuQroSkz9P9",
    "pycharm": {
     "name": "#%% md\n"
    }
   },
   "source": [
    "g. Wat is de betekenis van het derde kwartiel?"
   ]
  },
  {
   "cell_type": "code",
   "execution_count": null,
   "metadata": {},
   "outputs": [],
   "source": [
    "# hier komt jouw oplossing"
   ]
  },
  {
   "cell_type": "markdown",
   "metadata": {
    "collapsed": false,
    "id": "FsRN0LI4z9P-"
   },
   "source": [
    "h. Wat is de interkwartielafstand van het aantal verstuurde bytes?  Wat betekent dit?"
   ]
  },
  {
   "cell_type": "code",
   "execution_count": null,
   "metadata": {},
   "outputs": [],
   "source": [
    "# hier komt jouw oplossing"
   ]
  },
  {
   "cell_type": "markdown",
   "metadata": {
    "collapsed": false,
    "id": "zLmAfk2mz9QA"
   },
   "source": [
    "i. Maak een boxplot van het aantal verstuurde bytes.  Hoe interpreteer je deze grafiek?"
   ]
  },
  {
   "cell_type": "code",
   "execution_count": null,
   "metadata": {},
   "outputs": [],
   "source": [
    "# hier komt jouw oplossing"
   ]
  },
  {
   "cell_type": "markdown",
   "metadata": {
    "collapsed": false,
    "id": "6As_bQfKz9QA",
    "pycharm": {
     "name": "#%% md\n"
    }
   },
   "source": [
    "j. Hoeveel uitschieters zijn er?  Wat is het minimum van deze uitschieters?"
   ]
  },
  {
   "cell_type": "code",
   "execution_count": null,
   "metadata": {},
   "outputs": [],
   "source": [
    "# hier komt jouw oplossing"
   ]
  },
  {
   "cell_type": "markdown",
   "metadata": {
    "collapsed": false,
    "id": "qqaAIv88z9QB",
    "pycharm": {
     "name": "#%% md\n"
    }
   },
   "source": [
    "k. Verwijder de uitschieters en maak terug een boxplot (er ontstaan hier weer outliers, maar zoek een optie bij boxplot om deze niet te tekenen)"
   ]
  },
  {
   "cell_type": "code",
   "execution_count": null,
   "metadata": {},
   "outputs": [],
   "source": [
    "# hier komt jouw oplossing"
   ]
  },
  {
   "cell_type": "code",
   "execution_count": null,
   "metadata": {},
   "outputs": [],
   "source": [
    "# hier komt jouw oplossing"
   ]
  }
 ],
 "metadata": {
  "colab": {
   "collapsed_sections": [],
   "name": "2_Opgaveboek - spreidingsmaten - oplossingen.ipynb",
   "provenance": []
  },
  "kernelspec": {
   "display_name": "Python 3",
   "language": "python",
   "name": "python3"
  },
  "language_info": {
   "codemirror_mode": {
    "name": "ipython",
    "version": 3
   },
   "file_extension": ".py",
   "mimetype": "text/x-python",
   "name": "python",
   "nbconvert_exporter": "python",
   "pygments_lexer": "ipython3",
   "version": "3.7.4"
  }
 },
 "nbformat": 4,
 "nbformat_minor": 0
}