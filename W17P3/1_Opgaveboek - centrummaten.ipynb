{
 "cells": [
  {
   "cell_type": "markdown",
   "metadata": {
    "collapsed": false
   },
   "source": [
    "Setup"
   ]
  },
  {
   "cell_type": "code",
   "execution_count": 22,
   "metadata": {
    "colab": {
     "base_uri": "https://localhost:8080/"
    },
    "executionInfo": {
     "elapsed": 27898,
     "status": "ok",
     "timestamp": 1616333827436,
     "user": {
      "displayName": "Rony Baekeland",
      "photoUrl": "",
      "userId": "01731985152349302060"
     },
     "user_tz": -60
    },
    "id": "Cc1xCEATUgBU",
    "outputId": "4ff98b08-0491-490b-9209-dfe618093424"
   },
   "outputs": [],
   "source": [
    "import pandas as pd\n",
    "import numpy as np\n",
    "import matplotlib.pyplot as plt\n",
    "\n",
    "\n",
    "# from IPython.core.display import display\n",
    "# from IPython.core.interactiveshell import InteractiveShell\n",
    "#\n",
    "# InteractiveShell.ast_node_interactivity = \"all\"\n",
    "\n",
    "# local = True\n",
    "# if local:\n",
    "#   datasetfolder='../datasets/'\n",
    "# else :\n",
    "#   from google.colab import drive\n",
    "#   # Vervang dit naar het pad in Google Drive waar jou datasets staan\n",
    "#   !ln -s \"/content/drive/Shareddrives/Data Science 1/2020-21/Lesmateriaal/5 centrum en spreiding/oefeningen/datasets\" \"/content/datasets\"\n",
    "#   !ls /content/datasets\n",
    "#   drive.mount('/content/drive')\n",
    "#   datasetfolder='/content/datasets/'\n",
    "#\n",
    "# print('de folder met datasets = ' + datasetfolder)"
   ]
  },
  {
   "cell_type": "markdown",
   "metadata": {
    "id": "U4PnvexQCrLT"
   },
   "source": [
    "# Centrummaten"
   ]
  },
  {
   "cell_type": "markdown",
   "metadata": {
    "id": "AdlK3yifCrLZ"
   },
   "source": [
    "## Vraag 1\n",
    "\n",
    "Breedbandopgave"
   ]
  },
  {
   "cell_type": "markdown",
   "metadata": {
    "id": "zT3uv_SxCrLa"
   },
   "source": [
    "a. Gebruik het bestand **breedbandopgave.csv**. Het bestand heeft NA-waarden 'Onbekend', 'Niet gekend' en 'Unknown'. De eerste regel van bestand is een commentaar regel en die moet je overslaan. Verder worden decimale getallen genoteerd met een ','.\n",
    "Lees dit bestand in, maar hou daarbij rekening met bovenstaande opmerkingen."
   ]
  },
  {
   "cell_type": "code",
   "execution_count": 22,
   "metadata": {},
   "outputs": [],
   "source": []
  },
  {
   "cell_type": "markdown",
   "metadata": {
    "id": "VoGu-4tbCrLc"
   },
   "source": [
    "b. Voeg een extra kolom genaamd `sync_speed` toe met daarin de afrondingen van de sync speed (afronden op 0 decimalen). Gebruik de methode `.round()`"
   ]
  },
  {
   "cell_type": "code",
   "execution_count": 22,
   "metadata": {},
   "outputs": [],
   "source": []
  },
  {
   "cell_type": "markdown",
   "metadata": {
    "id": "tOabAMt7CrLi"
   },
   "source": [
    "c. Wat is de modus?"
   ]
  },
  {
   "cell_type": "code",
   "execution_count": 22,
   "metadata": {},
   "outputs": [],
   "source": []
  },
  {
   "cell_type": "markdown",
   "metadata": {
    "id": "BygsMrl6CrLj"
   },
   "source": [
    "d. Bepaal de mediaan."
   ]
  },
  {
   "cell_type": "code",
   "execution_count": 23,
   "metadata": {},
   "outputs": [],
   "source": []
  },
  {
   "cell_type": "markdown",
   "metadata": {
    "id": "Hj1J0SfACrLk"
   },
   "source": [
    "e. Bepaal het gemiddelde."
   ]
  },
  {
   "cell_type": "code",
   "execution_count": 24,
   "metadata": {},
   "outputs": [],
   "source": []
  },
  {
   "cell_type": "markdown",
   "metadata": {
    "collapsed": false,
    "id": "jdZDOWLATJdK"
   },
   "source": [
    "f. Importeer de functies uit hulpfuncties.py en gebruik de functie `uitschieters` om de uitschieters te identificeren en te verwijderen uit de gegevens. Sla het resultaat op in een nieuw Pandas Series."
   ]
  },
  {
   "cell_type": "code",
   "execution_count": 25,
   "metadata": {},
   "outputs": [],
   "source": []
  },
  {
   "cell_type": "markdown",
   "metadata": {
    "collapsed": false,
    "id": "uOG3w-nsTJdK"
   },
   "source": [
    "g. Bereken gemiddelde, median en modus opnieuw op de gegevens zonder uitschieters. Wat merk je op?"
   ]
  },
  {
   "cell_type": "code",
   "execution_count": 26,
   "metadata": {},
   "outputs": [],
   "source": []
  },
  {
   "cell_type": "markdown",
   "metadata": {
    "id": "AYlZH8v3CrLm"
   },
   "source": [
    "## Vraag 2"
   ]
  },
  {
   "cell_type": "markdown",
   "metadata": {
    "collapsed": false
   },
   "source": [
    "1. Wat is het gemiddelde percentage van aantal gezinnen met een breedband van minder dan 2Mbit (ga ervan uit dat elke streek evenveel inwoners telt)"
   ]
  },
  {
   "cell_type": "code",
   "execution_count": 27,
   "metadata": {},
   "outputs": [],
   "source": []
  },
  {
   "cell_type": "markdown",
   "metadata": {
    "collapsed": false
   },
   "source": [
    "2. Wat is de mediaan van deze groep?"
   ]
  },
  {
   "cell_type": "code",
   "execution_count": 28,
   "metadata": {},
   "outputs": [],
   "source": []
  },
  {
   "cell_type": "markdown",
   "metadata": {
    "collapsed": false
   },
   "source": [
    "3. Wat is de modus?  Maak hierbij klassen met de formule van Sturges $m = \\lceil 1 + log_2(n)\\rceil$ waarbij $m$ het aantal klassen is dat je zal moeten gebruiken."
   ]
  },
  {
   "cell_type": "code",
   "execution_count": 29,
   "metadata": {},
   "outputs": [],
   "source": []
  },
  {
   "cell_type": "code",
   "execution_count": 30,
   "metadata": {},
   "outputs": [],
   "source": []
  },
  {
   "cell_type": "markdown",
   "metadata": {
    "id": "5nTyR8YKCrLq"
   },
   "source": [
    "## Vraag 3\n",
    "\n",
    "In een onderzoek meten we in hoeverre kinderen een taalachterstand bezitten. Op de gegevens kunnen zowel het gemiddelde als de mediaan berekend worden. Welk meetniveau is hier gehanteerd?\n",
    "1. nominale schaal\n",
    "2. ordinale schaal\n",
    "3. intervalschaal\n",
    "4. er is te weinig informatie om dit te bepalen"
   ]
  },
  {
   "cell_type": "code",
   "execution_count": 31,
   "metadata": {},
   "outputs": [],
   "source": []
  },
  {
   "cell_type": "markdown",
   "metadata": {
    "id": "VVWFeu03CrLq"
   },
   "source": [
    "## Vraag 4\n",
    "\n",
    "Bij het inlezen van een serie scores is een fout gemaakt. De laagste waarde moet 21 zijn in plaats van 11. \n",
    "Na correctie is dit nog steeds de laagste waarde. Welke centrummaat is door de correctie altijd veranderd?\n",
    "1. modus\n",
    "2. mediaan\n",
    "3. gemiddelde\n",
    "4. mediaan en gemiddelde"
   ]
  },
  {
   "cell_type": "code",
   "execution_count": 32,
   "metadata": {},
   "outputs": [],
   "source": []
  },
  {
   "cell_type": "markdown",
   "metadata": {
    "id": "PilQOmJCCrLr"
   },
   "source": [
    "### Vraag 5\n",
    "\n",
    "We hebben de volgende scores: 3, 6, 9, 22, 9, 5, 8, 21, 9, 5, 3, 8, 9. Aan welke centrummaat is de score 9 gelijk?\n",
    "\n",
    "1. het gemiddelde\n",
    "2. de mediaan\n",
    "3. de modus\n",
    "4. het gemiddelde en de modus\n",
    "5. het gemiddelde, de mediaan en de modus"
   ]
  },
  {
   "cell_type": "code",
   "execution_count": 33,
   "metadata": {},
   "outputs": [],
   "source": []
  },
  {
   "cell_type": "markdown",
   "metadata": {
    "id": "ZC5cEF3yCrLr"
   },
   "source": [
    "### Vraag 6\n",
    "\n",
    "De gemiddelde leeftijd van de mannelijke werknemers is 37,7. Voor de vrouwelijke is dit 31,4. \n",
    "De totale groep werknemers bestaat uit 27% vrouwen. Wat is de gemiddelde leeftijd van alle werknemers? \n",
    "(3 beduidende cijfers)"
   ]
  },
  {
   "cell_type": "code",
   "execution_count": 34,
   "metadata": {},
   "outputs": [],
   "source": []
  },
  {
   "cell_type": "markdown",
   "metadata": {
    "id": "MY_DSvUACrLs"
   },
   "source": [
    "### Vraag 7\n",
    "\n",
    "In de groep zijn er 10 jongens die gemiddeld 3u per dag tv kijken. Er zijn 30 meisjes die gemiddeld 2u per dag tv kijken.\n",
    "Hoeveel u per dag kijken deze jongeren gemiddeld tv? (3 beduidende cijfers)\n"
   ]
  },
  {
   "cell_type": "code",
   "execution_count": 35,
   "metadata": {},
   "outputs": [],
   "source": []
  },
  {
   "cell_type": "markdown",
   "metadata": {
    "id": "bw49Cyd8CrLs"
   },
   "source": [
    "### Vraag 8\n",
    "\n",
    "In de sportclub is de gemiddelde leeftijd van de driehonderd sporters 25 jaar.\n",
    "De 10 bestuursleden zijn gemiddeld 60 jaar en de 500 supporters zijn gemiddeld 45 jaar.\n",
    "Wat is de gemiddelde leeftijd van al deze mensen? (4 beduidende cijfers)"
   ]
  },
  {
   "cell_type": "code",
   "execution_count": 36,
   "metadata": {},
   "outputs": [],
   "source": []
  }
 ],
 "metadata": {
  "colab": {
   "collapsed_sections": [],
   "name": "1_Opgaveboek - centrummaten - oplossingen.ipynb",
   "provenance": [],
   "toc_visible": true
  },
  "kernelspec": {
   "display_name": "Python 3",
   "language": "python",
   "name": "python3"
  }
 },
 "nbformat": 4,
 "nbformat_minor": 0
}
