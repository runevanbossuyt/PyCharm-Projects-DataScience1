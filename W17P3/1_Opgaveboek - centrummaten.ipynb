{
 "cells": [
  {
   "cell_type": "markdown",
   "metadata": {
    "collapsed": false
   },
   "source": [
    "Setup"
   ]
  },
  {
   "cell_type": "code",
   "execution_count": 1,
   "metadata": {
    "colab": {
     "base_uri": "https://localhost:8080/"
    },
    "executionInfo": {
     "elapsed": 27898,
     "status": "ok",
     "timestamp": 1616333827436,
     "user": {
      "displayName": "Rony Baekeland",
      "photoUrl": "",
      "userId": "01731985152349302060"
     },
     "user_tz": -60
    },
    "id": "Cc1xCEATUgBU",
    "outputId": "4ff98b08-0491-490b-9209-dfe618093424"
   },
   "outputs": [],
   "source": [
    "import pandas as pd\n",
    "import numpy as np\n",
    "import matplotlib.pyplot as plt\n",
    "import math as math"
   ]
  },
  {
   "cell_type": "markdown",
   "metadata": {
    "id": "U4PnvexQCrLT"
   },
   "source": [
    "# Centrummaten"
   ]
  },
  {
   "cell_type": "markdown",
   "metadata": {
    "id": "AdlK3yifCrLZ"
   },
   "source": [
    "## Vraag 1\n",
    "\n",
    "Breedbandopgave"
   ]
  },
  {
   "cell_type": "markdown",
   "metadata": {
    "id": "zT3uv_SxCrLa"
   },
   "source": [
    "a. Gebruik het bestand **breedbandopgave.csv**. Het bestand heeft NA-waarden 'Onbekend', 'Niet gekend' en 'Unknown'. De eerste regel van bestand is een commentaar regel en die moet je overslaan. Verder worden decimale getallen genoteerd met een ','.\n",
    "Lees dit bestand in, maar hou daarbij rekening met bovenstaande opmerkingen."
   ]
  },
  {
   "cell_type": "code",
   "execution_count": 2,
   "metadata": {},
   "outputs": [
    {
     "data": {
      "text/plain": "                  streek  gem sync speed  \\\n0        City of Bristol             9.9   \n1      City of Edinburgh            10.1   \n2        Southend-on-Sea             9.3   \n3    West Dunbartonshire             9.5   \n4     Liverpool District             9.5   \n..                   ...             ...   \n195               Armagh             5.3   \n196                Omagh             5.5   \n197            Fermanagh             4.3   \n198            Dungannon             4.7   \n199            Cookstown             4.4   \n\n     percentage huizen broadband minder dan 2Mbit/s  \\\n0                                               4.5   \n1                                               4.5   \n2                                               5.8   \n3                                               6.5   \n4                                               6.6   \n..                                              ...   \n195                                            30.2   \n196                                            31.9   \n197                                            32.9   \n198                                            33.2   \n199                                            35.9   \n\n     percentage supersnel internet (>24Mbit/s)  \\\n0                                         90.0   \n1                                         82.0   \n2                                         77.0   \n3                                         89.0   \n4                                         77.0   \n..                                         ...   \n195                                        NaN   \n196                                       99.0   \n197                                       96.0   \n198                                       97.0   \n199                                       98.0   \n\n     percentage dat broadband heeft tov huizen  \n0                                         71.0  \n1                                         69.0  \n2                                         68.0  \n3                                         61.0  \n4                                         59.0  \n..                                         ...  \n195                                       58.0  \n196                                       56.0  \n197                                       60.0  \n198                                       57.0  \n199                                       57.0  \n\n[200 rows x 5 columns]",
      "text/html": "<div>\n<style scoped>\n    .dataframe tbody tr th:only-of-type {\n        vertical-align: middle;\n    }\n\n    .dataframe tbody tr th {\n        vertical-align: top;\n    }\n\n    .dataframe thead th {\n        text-align: right;\n    }\n</style>\n<table border=\"1\" class=\"dataframe\">\n  <thead>\n    <tr style=\"text-align: right;\">\n      <th></th>\n      <th>streek</th>\n      <th>gem sync speed</th>\n      <th>percentage huizen broadband minder dan 2Mbit/s</th>\n      <th>percentage supersnel internet (&gt;24Mbit/s)</th>\n      <th>percentage dat broadband heeft tov huizen</th>\n    </tr>\n  </thead>\n  <tbody>\n    <tr>\n      <th>0</th>\n      <td>City of Bristol</td>\n      <td>9.9</td>\n      <td>4.5</td>\n      <td>90.0</td>\n      <td>71.0</td>\n    </tr>\n    <tr>\n      <th>1</th>\n      <td>City of Edinburgh</td>\n      <td>10.1</td>\n      <td>4.5</td>\n      <td>82.0</td>\n      <td>69.0</td>\n    </tr>\n    <tr>\n      <th>2</th>\n      <td>Southend-on-Sea</td>\n      <td>9.3</td>\n      <td>5.8</td>\n      <td>77.0</td>\n      <td>68.0</td>\n    </tr>\n    <tr>\n      <th>3</th>\n      <td>West Dunbartonshire</td>\n      <td>9.5</td>\n      <td>6.5</td>\n      <td>89.0</td>\n      <td>61.0</td>\n    </tr>\n    <tr>\n      <th>4</th>\n      <td>Liverpool District</td>\n      <td>9.5</td>\n      <td>6.6</td>\n      <td>77.0</td>\n      <td>59.0</td>\n    </tr>\n    <tr>\n      <th>...</th>\n      <td>...</td>\n      <td>...</td>\n      <td>...</td>\n      <td>...</td>\n      <td>...</td>\n    </tr>\n    <tr>\n      <th>195</th>\n      <td>Armagh</td>\n      <td>5.3</td>\n      <td>30.2</td>\n      <td>NaN</td>\n      <td>58.0</td>\n    </tr>\n    <tr>\n      <th>196</th>\n      <td>Omagh</td>\n      <td>5.5</td>\n      <td>31.9</td>\n      <td>99.0</td>\n      <td>56.0</td>\n    </tr>\n    <tr>\n      <th>197</th>\n      <td>Fermanagh</td>\n      <td>4.3</td>\n      <td>32.9</td>\n      <td>96.0</td>\n      <td>60.0</td>\n    </tr>\n    <tr>\n      <th>198</th>\n      <td>Dungannon</td>\n      <td>4.7</td>\n      <td>33.2</td>\n      <td>97.0</td>\n      <td>57.0</td>\n    </tr>\n    <tr>\n      <th>199</th>\n      <td>Cookstown</td>\n      <td>4.4</td>\n      <td>35.9</td>\n      <td>98.0</td>\n      <td>57.0</td>\n    </tr>\n  </tbody>\n</table>\n<p>200 rows × 5 columns</p>\n</div>"
     },
     "metadata": {},
     "output_type": "display_data"
    }
   ],
   "source": [
    "breedbandopgave = pd.read_csv('data/breedbandopgave.csv', decimal=',', sep=',', na_values=['Onbekend', 'Niet gekend', 'Unknown'] , header=1)\n",
    "\n",
    "display(breedbandopgave) # TEST"
   ]
  },
  {
   "cell_type": "markdown",
   "metadata": {
    "id": "VoGu-4tbCrLc"
   },
   "source": [
    "b. Voeg een extra kolom genaamd `sync_speed` toe met daarin de afrondingen van de sync speed (afronden op 0 decimalen). Gebruik de methode `.round()`"
   ]
  },
  {
   "cell_type": "code",
   "execution_count": 3,
   "metadata": {},
   "outputs": [
    {
     "data": {
      "text/plain": "                  streek  gem sync speed  \\\n0        City of Bristol             9.9   \n1      City of Edinburgh            10.1   \n2        Southend-on-Sea             9.3   \n3    West Dunbartonshire             9.5   \n4     Liverpool District             9.5   \n..                   ...             ...   \n195               Armagh             5.3   \n196                Omagh             5.5   \n197            Fermanagh             4.3   \n198            Dungannon             4.7   \n199            Cookstown             4.4   \n\n     percentage huizen broadband minder dan 2Mbit/s  \\\n0                                               4.5   \n1                                               4.5   \n2                                               5.8   \n3                                               6.5   \n4                                               6.6   \n..                                              ...   \n195                                            30.2   \n196                                            31.9   \n197                                            32.9   \n198                                            33.2   \n199                                            35.9   \n\n     percentage supersnel internet (>24Mbit/s)  \\\n0                                         90.0   \n1                                         82.0   \n2                                         77.0   \n3                                         89.0   \n4                                         77.0   \n..                                         ...   \n195                                        NaN   \n196                                       99.0   \n197                                       96.0   \n198                                       97.0   \n199                                       98.0   \n\n     percentage dat broadband heeft tov huizen  sync_speed  \n0                                         71.0        10.0  \n1                                         69.0        10.0  \n2                                         68.0         9.0  \n3                                         61.0        10.0  \n4                                         59.0        10.0  \n..                                         ...         ...  \n195                                       58.0         5.0  \n196                                       56.0         6.0  \n197                                       60.0         4.0  \n198                                       57.0         5.0  \n199                                       57.0         4.0  \n\n[200 rows x 6 columns]",
      "text/html": "<div>\n<style scoped>\n    .dataframe tbody tr th:only-of-type {\n        vertical-align: middle;\n    }\n\n    .dataframe tbody tr th {\n        vertical-align: top;\n    }\n\n    .dataframe thead th {\n        text-align: right;\n    }\n</style>\n<table border=\"1\" class=\"dataframe\">\n  <thead>\n    <tr style=\"text-align: right;\">\n      <th></th>\n      <th>streek</th>\n      <th>gem sync speed</th>\n      <th>percentage huizen broadband minder dan 2Mbit/s</th>\n      <th>percentage supersnel internet (&gt;24Mbit/s)</th>\n      <th>percentage dat broadband heeft tov huizen</th>\n      <th>sync_speed</th>\n    </tr>\n  </thead>\n  <tbody>\n    <tr>\n      <th>0</th>\n      <td>City of Bristol</td>\n      <td>9.9</td>\n      <td>4.5</td>\n      <td>90.0</td>\n      <td>71.0</td>\n      <td>10.0</td>\n    </tr>\n    <tr>\n      <th>1</th>\n      <td>City of Edinburgh</td>\n      <td>10.1</td>\n      <td>4.5</td>\n      <td>82.0</td>\n      <td>69.0</td>\n      <td>10.0</td>\n    </tr>\n    <tr>\n      <th>2</th>\n      <td>Southend-on-Sea</td>\n      <td>9.3</td>\n      <td>5.8</td>\n      <td>77.0</td>\n      <td>68.0</td>\n      <td>9.0</td>\n    </tr>\n    <tr>\n      <th>3</th>\n      <td>West Dunbartonshire</td>\n      <td>9.5</td>\n      <td>6.5</td>\n      <td>89.0</td>\n      <td>61.0</td>\n      <td>10.0</td>\n    </tr>\n    <tr>\n      <th>4</th>\n      <td>Liverpool District</td>\n      <td>9.5</td>\n      <td>6.6</td>\n      <td>77.0</td>\n      <td>59.0</td>\n      <td>10.0</td>\n    </tr>\n    <tr>\n      <th>...</th>\n      <td>...</td>\n      <td>...</td>\n      <td>...</td>\n      <td>...</td>\n      <td>...</td>\n      <td>...</td>\n    </tr>\n    <tr>\n      <th>195</th>\n      <td>Armagh</td>\n      <td>5.3</td>\n      <td>30.2</td>\n      <td>NaN</td>\n      <td>58.0</td>\n      <td>5.0</td>\n    </tr>\n    <tr>\n      <th>196</th>\n      <td>Omagh</td>\n      <td>5.5</td>\n      <td>31.9</td>\n      <td>99.0</td>\n      <td>56.0</td>\n      <td>6.0</td>\n    </tr>\n    <tr>\n      <th>197</th>\n      <td>Fermanagh</td>\n      <td>4.3</td>\n      <td>32.9</td>\n      <td>96.0</td>\n      <td>60.0</td>\n      <td>4.0</td>\n    </tr>\n    <tr>\n      <th>198</th>\n      <td>Dungannon</td>\n      <td>4.7</td>\n      <td>33.2</td>\n      <td>97.0</td>\n      <td>57.0</td>\n      <td>5.0</td>\n    </tr>\n    <tr>\n      <th>199</th>\n      <td>Cookstown</td>\n      <td>4.4</td>\n      <td>35.9</td>\n      <td>98.0</td>\n      <td>57.0</td>\n      <td>4.0</td>\n    </tr>\n  </tbody>\n</table>\n<p>200 rows × 6 columns</p>\n</div>"
     },
     "metadata": {},
     "output_type": "display_data"
    }
   ],
   "source": [
    "breedbandopgave['sync_speed'] = breedbandopgave['gem sync speed'].dropna().round(0)\n",
    "\n",
    "display(breedbandopgave) # TEST"
   ]
  },
  {
   "cell_type": "markdown",
   "metadata": {
    "id": "tOabAMt7CrLi"
   },
   "source": [
    "c. Wat is de modus?"
   ]
  },
  {
   "cell_type": "code",
   "execution_count": 4,
   "metadata": {},
   "outputs": [
    {
     "name": "stdout",
     "output_type": "stream",
     "text": [
      "0    6.0\n",
      "Name: sync_speed, dtype: float64\n"
     ]
    }
   ],
   "source": [
    "mode = breedbandopgave['sync_speed'].mode()\n",
    "\n",
    "print(mode) # Test\n",
    "\n",
    "# print(f'Modus = {breedbandopgave.sync_speed[0].mode()}')"
   ]
  },
  {
   "cell_type": "markdown",
   "metadata": {
    "id": "BygsMrl6CrLj"
   },
   "source": [
    "d. Bepaal de mediaan."
   ]
  },
  {
   "cell_type": "code",
   "execution_count": 5,
   "metadata": {},
   "outputs": [
    {
     "name": "stdout",
     "output_type": "stream",
     "text": [
      "7.0\n"
     ]
    }
   ],
   "source": [
    "mediaan = breedbandopgave['sync_speed'].median()\n",
    "\n",
    "print(mediaan) # Test"
   ]
  },
  {
   "cell_type": "markdown",
   "metadata": {
    "id": "Hj1J0SfACrLk"
   },
   "source": [
    "e. Bepaal het gemiddelde."
   ]
  },
  {
   "cell_type": "code",
   "execution_count": 6,
   "metadata": {},
   "outputs": [
    {
     "name": "stdout",
     "output_type": "stream",
     "text": [
      "7.0\n"
     ]
    }
   ],
   "source": [
    "gemiddelde = breedbandopgave['sync_speed'].mean()\n",
    "\n",
    "print(mediaan) # Test"
   ]
  },
  {
   "cell_type": "markdown",
   "metadata": {
    "collapsed": false,
    "id": "jdZDOWLATJdK"
   },
   "source": [
    "f. Importeer de functies uit hulpfuncties.py en gebruik de functie `uitschieters` om de uitschieters te identificeren en te verwijderen uit de gegevens. Sla het resultaat op in een nieuw Pandas Series."
   ]
  },
  {
   "cell_type": "code",
   "execution_count": 7,
   "metadata": {},
   "outputs": [
    {
     "name": "stdout",
     "output_type": "stream",
     "text": [
      "0      False\n",
      "1      False\n",
      "2      False\n",
      "3      False\n",
      "4      False\n",
      "       ...  \n",
      "195    False\n",
      "196    False\n",
      "197    False\n",
      "198    False\n",
      "199    False\n",
      "Name: sync_speed, Length: 200, dtype: bool\n"
     ]
    }
   ],
   "source": [
    "import hulpfuncties as hp\n",
    "\n",
    "index = hp.uitschieters(breedbandopgave.sync_speed)\n",
    "extremen = breedbandopgave.sync_speed[~index]\n",
    "\n",
    "print(index)"
   ]
  },
  {
   "cell_type": "markdown",
   "metadata": {
    "collapsed": false,
    "id": "uOG3w-nsTJdK"
   },
   "source": [
    "g. Bereken gemiddelde, median en modus opnieuw op de gegevens zonder uitschieters. Wat merk je op?"
   ]
  },
  {
   "cell_type": "code",
   "execution_count": 8,
   "metadata": {},
   "outputs": [
    {
     "name": "stdout",
     "output_type": "stream",
     "text": [
      "Het gemiddelde is:gem sync speed                                     8.159391\n",
      "percentage huizen broadband minder dan 2Mbit/s    16.296465\n",
      "percentage supersnel internet (>24Mbit/s)         57.120603\n",
      "percentage dat broadband heeft tov huizen         64.969849\n",
      "sync_speed                                         8.152284\n",
      "dtype: float64\n",
      "De mediaan is:gem sync speed                                     7.1\n",
      "percentage huizen broadband minder dan 2Mbit/s    15.6\n",
      "percentage supersnel internet (>24Mbit/s)         67.0\n",
      "percentage dat broadband heeft tov huizen         64.0\n",
      "sync_speed                                         7.0\n",
      "dtype: float64\n",
      "De modus is:('Aberdeen City', 7.4, 12.2, 0.0, 74.0, 7.0)\n",
      "None\n"
     ]
    },
    {
     "name": "stderr",
     "output_type": "stream",
     "text": [
      "C:\\Users\\elias\\OneDrive\\Data Core\\Documents\\School Documents\\(5) KdG\\Toegepaste Informatica\\[1] Toegepaste Informatica Eerste Jaar\\[1] Data science\\Data-Science-PyCharm\\W17P3\\hulpfuncties.py:68: FutureWarning: The default value of numeric_only in DataFrame.mean is deprecated. In a future version, it will default to False. In addition, specifying 'numeric_only=None' is deprecated. Select only valid columns or specify the value of numeric_only to silence this warning.\n",
      "  print(f\"Het gemiddelde is:{series.mean()}\")\n",
      "C:\\Users\\elias\\OneDrive\\Data Core\\Documents\\School Documents\\(5) KdG\\Toegepaste Informatica\\[1] Toegepaste Informatica Eerste Jaar\\[1] Data science\\Data-Science-PyCharm\\W17P3\\hulpfuncties.py:69: FutureWarning: The default value of numeric_only in DataFrame.median is deprecated. In a future version, it will default to False. In addition, specifying 'numeric_only=None' is deprecated. Select only valid columns or specify the value of numeric_only to silence this warning.\n",
      "  print(f\"De mediaan is:{series.median()}\")\n"
     ]
    }
   ],
   "source": [
    "mean_median_mode = hp.mean_median_mode(breedbandopgave)\n",
    "\n",
    "print(mean_median_mode)"
   ]
  },
  {
   "cell_type": "markdown",
   "metadata": {
    "id": "AYlZH8v3CrLm"
   },
   "source": [
    "## Vraag 2"
   ]
  },
  {
   "cell_type": "markdown",
   "metadata": {
    "collapsed": false
   },
   "source": [
    "1. Wat is het gemiddelde percentage van aantal gezinnen met een breedband van minder dan 2Mbit (ga ervan uit dat elke streek evenveel inwoners telt)"
   ]
  },
  {
   "cell_type": "code",
   "execution_count": 9,
   "metadata": {},
   "outputs": [
    {
     "name": "stdout",
     "output_type": "stream",
     "text": [
      "0      0.276134\n",
      "1      0.276134\n",
      "2      0.355905\n",
      "3      0.398860\n",
      "4      0.404996\n",
      "         ...   \n",
      "195    1.853163\n",
      "196    1.957480\n",
      "197    2.018843\n",
      "198    2.037252\n",
      "199    2.202932\n",
      "Name: percentage huizen broadband minder dan 2Mbit/s, Length: 200, dtype: float64\n"
     ]
    }
   ],
   "source": [
    "percentage = breedbandopgave['percentage huizen broadband minder dan 2Mbit/s']/breedbandopgave['percentage huizen broadband minder dan 2Mbit/s'].mean()\n",
    "\n",
    "\n",
    "print(percentage)"
   ]
  },
  {
   "cell_type": "markdown",
   "metadata": {
    "collapsed": false
   },
   "source": [
    "2. Wat is de mediaan van deze groep?"
   ]
  },
  {
   "cell_type": "code",
   "execution_count": 10,
   "metadata": {},
   "outputs": [
    {
     "name": "stdout",
     "output_type": "stream",
     "text": [
      "0.9572628381938203\n"
     ]
    }
   ],
   "source": [
    "median = percentage.median()\n",
    "\n",
    "print(median)"
   ]
  },
  {
   "cell_type": "markdown",
   "metadata": {
    "collapsed": false
   },
   "source": [
    "3. Wat is de modus?  Maak hierbij klassen met de formule van Sturges $m = \\lceil 1 + log_2(n)\\rceil$ waarbij $m$ het aantal klassen is dat je zal moeten gebruiken."
   ]
  },
  {
   "cell_type": "code",
   "execution_count": 11,
   "metadata": {},
   "outputs": [
    {
     "name": "stdout",
     "output_type": "stream",
     "text": [
      "0    0.509313\n",
      "Name: percentage huizen broadband minder dan 2Mbit/s, dtype: float64\n"
     ]
    }
   ],
   "source": [
    "modus = percentage.mode()\n",
    "\n",
    "print(modus)"
   ]
  },
  {
   "cell_type": "code",
   "execution_count": 12,
   "outputs": [
    {
     "name": "stdout",
     "output_type": "stream",
     "text": [
      "Min 0.2761335110174482\n",
      "Max 2.202931787894753\n",
      "(0.9, 1.1]    42\n",
      "(0.7, 0.9]    36\n",
      "(0.5, 0.7]    32\n",
      "(1.1, 1.3]    29\n",
      "(1.3, 1.6]    25\n",
      "(0.3, 0.5]    15\n",
      "(1.6, 1.8]     9\n",
      "(1.8, 2.0]     5\n",
      "(2.0, 2.2]     2\n",
      "Name: percentage huizen broadband minder dan 2Mbit/s, dtype: int64\n",
      "0    (0.9, 1.1]\n",
      "Name: percentage huizen broadband minder dan 2Mbit/s, dtype: category\n",
      "Categories (9, interval[float64, right]): [(0.3, 0.5] < (0.5, 0.7] < (0.7, 0.9] < (0.9, 1.1] ... (1.3, 1.6] < (1.6, 1.8] < (1.8, 2.0] < (2.0, 2.2]]\n"
     ]
    }
   ],
   "source": [
    "m = math.ceil(1+ math.log2(len(percentage)))\n",
    "\n",
    "min = percentage.min()\n",
    "max = percentage.max()\n",
    "# of\n",
    "# min, max = percentage.agg(['min','max'])\n",
    "\n",
    "print('Min', min) # Test\n",
    "print('Max', max) # Test\n",
    "\n",
    "klassen = np.linspace(start=min, stop=max, num=m+1).round(1)\n",
    "\n",
    "print(pd.cut(percentage, bins=klassen).value_counts())\n",
    "\n",
    "print(pd.cut(percentage, bins=klassen).mode())"
   ],
   "metadata": {
    "collapsed": false
   }
  },
  {
   "cell_type": "markdown",
   "metadata": {
    "id": "5nTyR8YKCrLq"
   },
   "source": [
    "## Vraag 3\n",
    "\n",
    "In een onderzoek meten we in hoeverre kinderen een taalachterstand bezitten. Op de gegevens kunnen zowel het gemiddelde als de mediaan berekend worden. Welk meetniveau is hier gehanteerd?\n",
    "1. nominale schaal\n",
    "2. ordinale schaal\n",
    "3. intervalschaal\n",
    "4. er is te weinig informatie om dit te bepalen"
   ]
  },
  {
   "cell_type": "code",
   "execution_count": 13,
   "metadata": {},
   "outputs": [],
   "source": [
    "# Intervalschaal"
   ]
  },
  {
   "cell_type": "markdown",
   "metadata": {
    "id": "VVWFeu03CrLq"
   },
   "source": [
    "## Vraag 4\n",
    "\n",
    "Bij het inlezen van een serie scores is een fout gemaakt. De laagste waarde moet 21 zijn in plaats van 11. \n",
    "Na correctie is dit nog steeds de laagste waarde. Welke centrummaat is door de correctie altijd veranderd?\n",
    "1. modus\n",
    "2. mediaan\n",
    "3. gemiddelde\n",
    "4. mediaan en gemiddelde"
   ]
  },
  {
   "cell_type": "code",
   "execution_count": 14,
   "metadata": {},
   "outputs": [],
   "source": [
    "# Gemiddelde"
   ]
  },
  {
   "cell_type": "markdown",
   "metadata": {
    "id": "PilQOmJCCrLr"
   },
   "source": [
    "### Vraag 5\n",
    "\n",
    "We hebben de volgende scores: 3, 6, 9, 22, 9, 5, 8, 21, 9, 5, 3, 8, 9. Aan welke centrummaat is de score 9 gelijk?\n",
    "\n",
    "1. het gemiddelde\n",
    "2. de mediaan\n",
    "3. de modus\n",
    "4. het gemiddelde en de modus\n",
    "5. het gemiddelde, de mediaan en de modus"
   ]
  },
  {
   "cell_type": "code",
   "execution_count": 15,
   "metadata": {},
   "outputs": [],
   "source": [
    "# Modus"
   ]
  },
  {
   "cell_type": "markdown",
   "metadata": {
    "id": "ZC5cEF3yCrLr"
   },
   "source": [
    "### Vraag 6\n",
    "\n",
    "De gemiddelde leeftijd van de mannelijke werknemers is 37,7. Voor de vrouwelijke is dit 31,4. \n",
    "De totale groep werknemers bestaat uit 27% vrouwen. Wat is de gemiddelde leeftijd van alle werknemers? \n",
    "(3 beduidende cijfers)"
   ]
  },
  {
   "cell_type": "code",
   "execution_count": 30,
   "metadata": {},
   "outputs": [
    {
     "name": "stdout",
     "output_type": "stream",
     "text": [
      "{36.626999999999995}\n"
     ]
    }
   ],
   "source": [
    "# Gemiddelde (gewogen)\n",
    "print({37.7 * (1-00.27) + 31.4 * 0.29})\n",
    "\n",
    "leeftijden = [37.7,31.4]"
   ]
  },
  {
   "cell_type": "markdown",
   "metadata": {
    "id": "MY_DSvUACrLs"
   },
   "source": [
    "### Vraag 7\n",
    "\n",
    "In de groep zijn er 10 jongens die gemiddeld 3u per dag tv kijken. Er zijn 30 meisjes die gemiddeld 2u per dag tv kijken.\n",
    "Hoeveel u per dag kijken deze jongeren gemiddeld tv? (3 beduidende cijfers)\n"
   ]
  },
  {
   "cell_type": "code",
   "execution_count": 39,
   "metadata": {},
   "outputs": [
    {
     "name": "stdout",
     "output_type": "stream",
     "text": [
      "2.25\n"
     ]
    }
   ],
   "source": [
    "# Gemiddelde (gewogen)\n",
    "gemiddelde = (((3 * 10) + (2 * 30)) / 40)\n",
    "\n",
    "print(round(gemiddelde,2)) # Test"
   ]
  },
  {
   "cell_type": "markdown",
   "metadata": {
    "id": "bw49Cyd8CrLs"
   },
   "source": [
    "### Vraag 8\n",
    "\n",
    "In de sportclub is de gemiddelde leeftijd van de driehonderd sporters 25 jaar.\n",
    "De 10 bestuursleden zijn gemiddeld 60 jaar en de 500 supporters zijn gemiddeld 45 jaar.\n",
    "Wat is de gemiddelde leeftijd van al deze mensen? (4 beduidende cijfers)"
   ]
  },
  {
   "cell_type": "code",
   "execution_count": 38,
   "metadata": {},
   "outputs": [
    {
     "name": "stdout",
     "output_type": "stream",
     "text": [
      "37.78\n"
     ]
    }
   ],
   "source": [
    "# Gemiddelde (gewogen)\n",
    "gemiddelde = (((25 * 300) + (60 * 10) + (45 * 500)) / 810)\n",
    "\n",
    "print(round(gemiddelde,2)) # Test"
   ]
  }
 ],
 "metadata": {
  "colab": {
   "collapsed_sections": [],
   "name": "1_Opgaveboek - centrummaten - oplossingen.ipynb",
   "provenance": [],
   "toc_visible": true
  },
  "kernelspec": {
   "display_name": "Python 3",
   "language": "python",
   "name": "python3"
  }
 },
 "nbformat": 4,
 "nbformat_minor": 0
}
