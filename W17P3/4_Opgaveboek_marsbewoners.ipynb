{
 "cells": [
  {
   "cell_type": "markdown",
   "metadata": {
    "collapsed": false,
    "id": "O2zgPdNuPWAW"
   },
   "source": [
    "Setup"
   ]
  },
  {
   "cell_type": "code",
   "execution_count": 219,
   "metadata": {
    "id": "T791QiANGoTC"
   },
   "outputs": [],
   "source": [
    "import pandas as pd\n",
    "import numpy as np\n",
    "import matplotlib.pyplot as plt\n",
    "import math as math"
   ]
  },
  {
   "cell_type": "markdown",
   "metadata": {
    "collapsed": false,
    "id": "fm0HLVbqPWAt"
   },
   "source": [
    "# Marsbewoners\n",
    "\n",
    "In deze opgave gaan we:\n",
    "\n",
    "-  spreidingsmaten  en centrummaten berekenen in Python voor een dataset\n",
    "-  een boxplot en histogram uitvoeren in Python en interpreteren.\n",
    "-  gemiddelde, standaardafwijking, mediaan en kwartielen berekenen en uitschieters detecteren."
   ]
  },
  {
   "cell_type": "markdown",
   "metadata": {
    "collapsed": false,
    "id": "JRG7zYfnPWAu"
   },
   "source": [
    "## Vraag 1: Marsbewoners\n",
    "\n",
    "Bekijk het bijgeleverde bestand: 'marsbewoners.txt'.  Hierin staan de lengtes van 10.000 marsbewoners die gemeten werden (in cm) door de mars exploration rovers.  Probeer dit bestand in te laden."
   ]
  },
  {
   "cell_type": "code",
   "execution_count": 220,
   "metadata": {
    "id": "7qydWRNKGoTF"
   },
   "outputs": [
    {
     "data": {
      "text/plain": "0       21.08995\n1       43.75383\n2       39.50759\n3       44.50153\n4       48.22103\n          ...   \n9990    94.13283\n9991    93.67725\n9992    69.96072\n9993    60.76466\n9994    64.65353\nLength: 9995, dtype: float64"
     },
     "metadata": {},
     "output_type": "display_data"
    }
   ],
   "source": [
    "marsbewoners = pd.read_csv(\"data/marsbewoners.txt\", delimiter=\" \", decimal=\".\")\n",
    "\n",
    "marsbewoners = marsbewoners.stack()\n",
    "\n",
    "# Reset de index en hernoem de kolommen\n",
    "marsbewoners = marsbewoners.reset_index(drop=True)\n",
    "\n",
    "display(marsbewoners)"
   ]
  },
  {
   "cell_type": "markdown",
   "metadata": {
    "collapsed": false,
    "id": "A6SsG-n3PWAx"
   },
   "source": [
    "Geef antwoord op de volgende vragen:"
   ]
  },
  {
   "cell_type": "markdown",
   "metadata": {
    "collapsed": false,
    "id": "J0sCSXZ-PWAx"
   },
   "source": [
    "1. Wat is de gemiddelde lengte van een marsbewoner?"
   ]
  },
  {
   "cell_type": "code",
   "execution_count": 221,
   "metadata": {
    "id": "83B_RbQ-GoTG"
   },
   "outputs": [
    {
     "name": "stdout",
     "output_type": "stream",
     "text": [
      "Gemiddelde -> 51.95\n"
     ]
    }
   ],
   "source": [
    "gemiddelde = round(marsbewoners.mean(), 2)\n",
    "\n",
    "print(\"Gemiddelde ->\", gemiddelde)"
   ]
  },
  {
   "cell_type": "markdown",
   "metadata": {
    "collapsed": false,
    "id": "xaBX8i1tPWAy"
   },
   "source": [
    "2. Wat is de mediaan?  Wat betekent dit?"
   ]
  },
  {
   "cell_type": "code",
   "execution_count": 222,
   "metadata": {
    "id": "TTNXxSbhGoTH"
   },
   "outputs": [
    {
     "name": "stdout",
     "output_type": "stream",
     "text": [
      "De mediaan is het middelpunt van alle data.\n",
      "Mediaan -> 49.04\n"
     ]
    }
   ],
   "source": [
    "median = round(marsbewoners.median(), 2)\n",
    "\n",
    "print(\"De mediaan is het middelpunt van alle data.\")\n",
    "print(\"Mediaan ->\", median)"
   ]
  },
  {
   "cell_type": "markdown",
   "metadata": {
    "collapsed": false,
    "id": "6st7M77rPWA0"
   },
   "source": [
    "3. Wat is de gemiddelde absolute afwijking?  Wat betekent dit?"
   ]
  },
  {
   "cell_type": "code",
   "execution_count": 223,
   "metadata": {
    "id": "Sb9u0YUaGoTH"
   },
   "outputs": [
    {
     "name": "stdout",
     "output_type": "stream",
     "text": [
      "MAD ->  14.989630409279396\n",
      "Outliers -> [21.08995 28.34488 17.90599 ... 94.13283 93.67725 69.96072]\n"
     ]
    }
   ],
   "source": [
    "mean = marsbewoners.mean()\n",
    "# mad = marsbewoners.mad()\n",
    "mad = (marsbewoners - marsbewoners.mean()).abs().mean()\n",
    "\n",
    "print(\"MAD -> \" ,mad)\n",
    "outliers = marsbewoners[(marsbewoners < (mean - mad)) | (marsbewoners  > (mean + mad))]\n",
    "\n",
    "print(\"Outliers ->\" ,outliers.values)"
   ]
  },
  {
   "cell_type": "markdown",
   "metadata": {
    "collapsed": false,
    "id": "C0GdgBLmPWA1"
   },
   "source": [
    "4. Wat is de standaardafwijking?  Wat betekent dit?"
   ]
  },
  {
   "cell_type": "code",
   "execution_count": 224,
   "metadata": {
    "id": "ETs0sVSKGoTH"
   },
   "outputs": [
    {
     "name": "stdout",
     "output_type": "stream",
     "text": [
      "standaardafwijking Is de gemiddelde afwijking tussen datapunten.\n",
      "Standaardafwijking -> 17.59\n"
     ]
    }
   ],
   "source": [
    "standaardafwijking = round(marsbewoners.std(), 2)\n",
    "\n",
    "print(\"standaardafwijking Is de gemiddelde afwijking tussen datapunten.\")\n",
    "print(\"Standaardafwijking ->\", standaardafwijking)"
   ]
  },
  {
   "cell_type": "markdown",
   "metadata": {
    "collapsed": false,
    "id": "xFRtN3owPWA2"
   },
   "source": [
    "5. Bepaal de kwartielen en de decielen (experimenteer met de kwantielen om dit te vinden)\n",
    "\n",
    "    - 20% van de marsbewoners is kleiner dan ... cm (gebruik de decielen)\n",
    "    - Het percentage marsbewoners dat kleiner of gelijk is aan 60 cm is ..."
   ]
  },
  {
   "cell_type": "code",
   "execution_count": 225,
   "metadata": {
    "id": "Y_GS3P9WGoTI"
   },
   "outputs": [
    {
     "name": "stdout",
     "output_type": "stream",
     "text": [
      "Kwantiel ->\n",
      "0.25    38.11\n",
      "0.50    49.04\n",
      "0.75    66.82\n",
      "dtype: float64\n",
      "Decielen ->\n",
      "0.1    30.48\n",
      "0.2    35.84\n",
      "0.3    40.16\n",
      "0.4    44.32\n",
      "0.5    49.04\n",
      "0.6    55.91\n",
      "0.7    63.35\n",
      "0.8    69.77\n",
      "0.9    76.49\n",
      "dtype: float64\n"
     ]
    }
   ],
   "source": [
    "# (1) -> 20% van de marsbewoners is kleiner dan 35.84 cm (gebruik de decielen)\n",
    "# (1) -> Het percentage marsbewoners dat kleiner of gelijk is aan 60 cm is Q5\n",
    "\n",
    "\n",
    "kwantiel = marsbewoners.quantile(q = [0.25,0.5,0.75])\n",
    "\n",
    "print(\"Kwantiel ->\")\n",
    "print(round(kwantiel, 2))\n",
    "\n",
    "decielen = marsbewoners.quantile(q = [0.10,0.20,0.30,0.40,0.50,0.60,0.70,0.80,0.90])\n",
    "\n",
    "print(\"Decielen ->\")\n",
    "print(round(decielen, 2))"
   ]
  },
  {
   "cell_type": "markdown",
   "metadata": {
    "collapsed": false,
    "id": "EJJ_mfjGPWA3"
   },
   "source": [
    "6. Teken een boxplot van de lengte van de marsbewoners.  Welke informatie zie je hier?\n",
    "\n",
    "Lees nu volgende zaken af op de boxplot:\n",
    "\n",
    "- Het bereik is ...\n",
    "- De mediaan ligt tussen...\n",
    "- Het eerste kwantiel Q1 ligt rond...\n",
    "- Het derde kwantiel ligt tussen....\n",
    "- Wanneer spreken we van een outlier (uitschieter)?\n"
   ]
  },
  {
   "cell_type": "code",
   "execution_count": 226,
   "metadata": {
    "id": "mZbNsfcsGoTI"
   },
   "outputs": [
    {
     "name": "stdout",
     "output_type": "stream",
     "text": [
      "Axes(0.125,0.11;0.775x0.77)\n"
     ]
    },
    {
     "data": {
      "text/plain": "<Figure size 640x480 with 1 Axes>",
      "image/png": "[encoded data removed]"
     },
     "metadata": {},
     "output_type": "display_data"
    }
   ],
   "source": [
    "import matplotlib.pyplot as plt\n",
    "fig,ax = plt.subplots()\n",
    "\n",
    "df = pd.DataFrame(marsbewoners)\n",
    "\n",
    "boxplot = df.boxplot(ax=ax)\n",
    "\n",
    "print(boxplot)"
   ]
  },
  {
   "cell_type": "code",
   "execution_count": 227,
   "metadata": {
    "id": "IOpXjmnvGoTI"
   },
   "outputs": [],
   "source": [
    "# (1) Het bereik is                                         -> 0 tot 100 (0% - 100%)\n",
    "# (2) De mediaan ligt tussen                                -> 40% - 60%\n",
    "# (3) Het eerste kwantiel Q1 ligt rond                      -> 40%\n",
    "# (4) Het derde kwantiel ligt tussen                        -> 60% - 80%\n",
    "# (5) Wanneer spreken we van een outlier (uitschieter)?     -> (Q1 - IQR * 1.5) of (Q3 - IQR * 1.5)"
   ]
  },
  {
   "cell_type": "markdown",
   "metadata": {
    "collapsed": false,
    "id": "dDkwikwDPWA4"
   },
   "source": [
    "7. Maak klassen van 5 cm en bepaal de frequenties (laat de klassen beginnen bij 0 cm).  Wat is de modus?"
   ]
  },
  {
   "cell_type": "code",
   "execution_count": 228,
   "metadata": {
    "id": "L4MphQg4GoTI"
   },
   "outputs": [
    {
     "name": "stdout",
     "output_type": "stream",
     "text": [
      "Modus -> 39.74918\n"
     ]
    }
   ],
   "source": [
    "cutpoints  = range(0,100,5)\n",
    "\n",
    "klassen = pd.cut(marsbewoners, bins=cutpoints)\n",
    "\n",
    "frequenties = klassen.value_counts().sort_index()\n",
    "\n",
    "modus = marsbewoners.value_counts().idxmax()\n",
    "\n",
    "print(\"Modus ->\", modus)"
   ]
  },
  {
   "cell_type": "markdown",
   "metadata": {
    "collapsed": false,
    "id": "p40qEKY2PWA5"
   },
   "source": [
    "8. Maak klassen van 5 cm en teken een histogram. Wat zie je?  Hoe zou je dit verklaren?  Zie je dit ook als je klassen maakt van 10 cm?"
   ]
  },
  {
   "cell_type": "code",
   "execution_count": 229,
   "metadata": {
    "id": "TIfSEvL7GoTJ"
   },
   "outputs": [
    {
     "data": {
      "text/plain": "<Figure size 640x480 with 1 Axes>",
      "image/png": "[encoded data removed]"
     },
     "metadata": {},
     "output_type": "display_data"
    }
   ],
   "source": [
    "# Er is een duidelijke modus.\n",
    "\n",
    "cutpoints  = range(0,100,5)\n",
    "\n",
    "klassen = pd.cut(marsbewoners, bins=cutpoints)\n",
    "\n",
    "frequenties = klassen.value_counts().sort_index()\n",
    "\n",
    "fig,axes = plt.subplots()\n",
    "_=axes.hist(frequenties,edgecolor='black',label='cm')\n",
    "_=axes.set_title('Marsbewoners')\n",
    "_=axes.set_xlabel('Frequentie')\n",
    "_=axes.set_ylabel('cm')\n",
    "_=axes.legend()"
   ]
  },
  {
   "cell_type": "code",
   "execution_count": 230,
   "outputs": [
    {
     "data": {
      "text/plain": "<Figure size 640x480 with 1 Axes>",
      "image/png": "[encoded data removed]"
     },
     "metadata": {},
     "output_type": "display_data"
    }
   ],
   "source": [
    "# Ja\n",
    "cutpoints  = range(0,100,10)\n",
    "\n",
    "klassen = pd.cut(marsbewoners, bins=cutpoints)\n",
    "\n",
    "frequenties = klassen.value_counts().sort_index()\n",
    "\n",
    "fig,axes = plt.subplots()\n",
    "_=axes.hist(frequenties,edgecolor='black',label='cm')\n",
    "_=axes.set_title('Marsbewoners')\n",
    "_=axes.set_xlabel('Frequentie')\n",
    "_=axes.set_ylabel('cm')\n",
    "_=axes.legend()"
   ],
   "metadata": {
    "collapsed": false
   }
  },
  {
   "cell_type": "markdown",
   "metadata": {
    "collapsed": false,
    "id": "zAEGmBTjPWA6"
   },
   "source": [
    "## Vraag 2: Mannelijk en vrouwelijke marsbewoners\n",
    "\n",
    "Open nu de bestanden 'mannetjes.txt' en 'vrouwtjes.txt'.  Hierin staan de lengtes van dezelfde marsbewoners, maar nu per geslacht."
   ]
  },
  {
   "cell_type": "code",
   "execution_count": 231,
   "metadata": {
    "id": "YyzkdYXMGoTJ"
   },
   "outputs": [
    {
     "data": {
      "text/plain": "0       71.58202\n1       79.32890\n2       71.57256\n3       59.87172\n4       58.05961\n          ...   \n3990    94.13283\n3991    93.67725\n3992    69.96072\n3993    60.76466\n3994    64.65353\nLength: 3995, dtype: float64"
     },
     "metadata": {},
     "output_type": "display_data"
    }
   ],
   "source": [
    "marsmannetjes = pd.read_csv(\"data/marsmannetjes.txt\", delimiter=\" \", decimal=\".\")\n",
    "\n",
    "marsmannetjes = marsmannetjes.stack()\n",
    "\n",
    "# Reset de index en hernoem de kolommen\n",
    "marsmannetjes = marsmannetjes.reset_index(drop=True)\n",
    "\n",
    "display(marsmannetjes)"
   ]
  },
  {
   "cell_type": "code",
   "execution_count": 232,
   "outputs": [
    {
     "data": {
      "text/plain": "0       21.08995\n1       43.75383\n2       39.50759\n3       44.50153\n4       48.22103\n          ...   \n5990    31.78196\n5991    35.48659\n5992    24.81928\n5993    45.02553\n5994    30.99566\nLength: 5995, dtype: float64"
     },
     "metadata": {},
     "output_type": "display_data"
    }
   ],
   "source": [
    "marsvrouwtjes = pd.read_csv(\"data/marsvrouwtjes.txt\", delimiter=\" \", decimal=\".\")\n",
    "\n",
    "marsvrouwtjes = marsvrouwtjes.stack()\n",
    "\n",
    "# Reset de index en hernoem de kolommen\n",
    "marsvrouwtjes = marsvrouwtjes.reset_index(drop=True)\n",
    "\n",
    "display(marsvrouwtjes)"
   ],
   "metadata": {
    "collapsed": false
   }
  },
  {
   "cell_type": "markdown",
   "metadata": {
    "collapsed": false,
    "id": "qox-y0shPWA8"
   },
   "source": [
    "Geef antwoord op de volgende vragen:"
   ]
  },
  {
   "cell_type": "markdown",
   "metadata": {
    "collapsed": false,
    "id": "AzLpoHrVPWA8"
   },
   "source": [
    "9. Wat zijn de gemiddelde lengtes van een marsmannetje en een marsvrouwtje?"
   ]
  },
  {
   "cell_type": "code",
   "execution_count": 233,
   "metadata": {
    "id": "yHDtA6QDGoTJ"
   },
   "outputs": [
    {
     "name": "stdout",
     "output_type": "stream",
     "text": [
      "Gemiddelde Marsmannetjes -> 69.73\n",
      "Gemiddelde Marsvrouwtjes -> 40.09\n"
     ]
    }
   ],
   "source": [
    "gemiddelde = round(marsmannetjes.mean(), 2)\n",
    "\n",
    "print(\"Gemiddelde Marsmannetjes ->\", gemiddelde)\n",
    "\n",
    "gemiddelde = round(marsvrouwtjes.mean(), 2)\n",
    "\n",
    "print(\"Gemiddelde Marsvrouwtjes ->\", gemiddelde)"
   ]
  },
  {
   "cell_type": "markdown",
   "metadata": {
    "collapsed": false,
    "id": "CG8orRhIPWA9"
   },
   "source": [
    "10. Bereken ook de medianen en de standaardafwijkingen"
   ]
  },
  {
   "cell_type": "code",
   "execution_count": 234,
   "metadata": {
    "id": "obwcZLs9GoTJ"
   },
   "outputs": [
    {
     "name": "stdout",
     "output_type": "stream",
     "text": [
      "Medianen Marsmannetjes -> 69.71\n",
      "Medianen Marsvrouwtjes -> 40.17\n"
     ]
    }
   ],
   "source": [
    "medianen = round(marsmannetjes.median(), 2)\n",
    "\n",
    "print(\"Medianen Marsmannetjes ->\", medianen)\n",
    "\n",
    "medianen = round(marsvrouwtjes.median(), 2)\n",
    "\n",
    "print(\"Medianen Marsvrouwtjes ->\", medianen)"
   ]
  },
  {
   "cell_type": "code",
   "execution_count": 235,
   "outputs": [
    {
     "name": "stdout",
     "output_type": "stream",
     "text": [
      "Standaardafwijkingen Marsmannetjes -> 10.03\n",
      "Standaardafwijkingen Marsvrouwtjes -> 9.85\n"
     ]
    }
   ],
   "source": [
    "standaardafwijkingen = round(marsmannetjes.std(), 2)\n",
    "\n",
    "print(\"Standaardafwijkingen Marsmannetjes ->\", standaardafwijkingen)\n",
    "\n",
    "standaardafwijkingen = round(marsvrouwtjes.std(), 2)\n",
    "\n",
    "print(\"Standaardafwijkingen Marsvrouwtjes ->\", standaardafwijkingen)"
   ],
   "metadata": {
    "collapsed": false
   }
  },
  {
   "cell_type": "markdown",
   "metadata": {
    "collapsed": false,
    "id": "9fk5-xX-PWA9"
   },
   "source": [
    "11. Bepaal de kwartielen"
   ]
  },
  {
   "cell_type": "code",
   "execution_count": 236,
   "metadata": {
    "id": "risb5CwBGoTK"
   },
   "outputs": [
    {
     "name": "stdout",
     "output_type": "stream",
     "text": [
      "Kwantiel Marsmannetjes ->\n",
      "0.25    63.00\n",
      "0.50    69.71\n",
      "0.75    76.48\n",
      "dtype: float64\n",
      "\n",
      "\n",
      "Kwantiel Marsvrouwtjes ->\n",
      "0.25    33.39\n",
      "0.50    40.17\n",
      "0.75    46.77\n",
      "dtype: float64\n"
     ]
    }
   ],
   "source": [
    "kwantiel = marsmannetjes.quantile(q = [0.25,0.5,0.75])\n",
    "\n",
    "print(\"Kwantiel Marsmannetjes ->\")\n",
    "print(round(kwantiel, 2))\n",
    "\n",
    "print(\"\\n\")\n",
    "\n",
    "kwantiel = marsvrouwtjes.quantile(q = [0.25,0.5,0.75])\n",
    "\n",
    "print(\"Kwantiel Marsvrouwtjes ->\")\n",
    "print(round(kwantiel, 2))"
   ]
  },
  {
   "cell_type": "markdown",
   "metadata": {
    "collapsed": false,
    "id": "6Fup2BEtPWA-"
   },
   "source": [
    "12. Maak een boxplot waar je deze twee verdelingen naast elkaar ziet"
   ]
  },
  {
   "cell_type": "code",
   "execution_count": 237,
   "metadata": {
    "id": "urZDJBx-GoTK"
   },
   "outputs": [
    {
     "name": "stdout",
     "output_type": "stream",
     "text": [
      "[0       71.58202\n",
      "1       79.32890\n",
      "2       71.57256\n",
      "3       59.87172\n",
      "4       58.05961\n",
      "          ...   \n",
      "3990    94.13283\n",
      "3991    93.67725\n",
      "3992    69.96072\n",
      "3993    60.76466\n",
      "3994    64.65353\n",
      "Length: 3995, dtype: float64, 0       21.08995\n",
      "1       43.75383\n",
      "2       39.50759\n",
      "3       44.50153\n",
      "4       48.22103\n",
      "          ...   \n",
      "5990    31.78196\n",
      "5991    35.48659\n",
      "5992    24.81928\n",
      "5993    45.02553\n",
      "5994    30.99566\n",
      "Length: 5995, dtype: float64]\n"
     ]
    }
   ],
   "source": [
    "mar = [marsmannetjes, marsvrouwtjes]\n",
    "print(mar)"
   ]
  },
  {
   "cell_type": "code",
   "execution_count": 238,
   "metadata": {
    "id": "0S595mkCGoTK"
   },
   "outputs": [
    {
     "data": {
      "text/plain": "<Figure size 640x480 with 1 Axes>",
      "image/png": "[encoded data removed]"
     },
     "metadata": {},
     "output_type": "display_data"
    }
   ],
   "source": [
    "import matplotlib.pyplot as plt\n",
    "\n",
    "# Maak de boxplot\n",
    "fig, ax = plt.subplots()\n",
    "ax.boxplot(mar)\n",
    "\n",
    "# Stel de labels in\n",
    "ax.set_xticklabels(['Marsmannetjes', 'Marsvrouwtjes'])\n",
    "ax.set_ylabel('Waarden')\n",
    "\n",
    "# Toon de plot\n",
    "plt.show()"
   ]
  },
  {
   "cell_type": "markdown",
   "metadata": {
    "collapsed": false,
    "id": "VsaGKXRfPWA_"
   },
   "source": [
    "13. Bepaal de grenzen voor uitschieters voor de mannetjes en de vrouwtjes. Welke waarden zijn er telkens uitschieters?  Zijn er extreme uitschieters?  Welk zijn de grenzen daarvoor?"
   ]
  },
  {
   "cell_type": "code",
   "execution_count": 239,
   "metadata": {
    "id": "bb_gEuMtGoTK"
   },
   "outputs": [
    {
     "name": "stdout",
     "output_type": "stream",
     "text": [
      "IQR->  13.48\n",
      "Outliers max ->  105.18\n",
      "Outliers min ->  30.66\n",
      "Extreme_outliers max->  nan\n",
      "Extreme_outliers min->  nan\n"
     ]
    }
   ],
   "source": [
    "Q1 = marsmannetjes.quantile(0.25)\n",
    "Q3 = marsmannetjes.quantile(0.75)\n",
    "IQR = Q3 - Q1\n",
    "\n",
    "outliers = marsmannetjes[(marsmannetjes <  (Q1 - 1.5 *  IQR)) | (marsmannetjes  > (Q3 +  1.5 * IQR))]\n",
    "\n",
    "extreme_outliers =  marsmannetjes[(marsmannetjes < (Q1 - 3 * IQR)) | (marsmannetjes > (Q3 + 3 * IQR))]\n",
    "\n",
    "\n",
    "print(\"IQR-> \", round(IQR, 2))\n",
    "print(\"Outliers max -> \", round(outliers.max() , 2))\n",
    "print(\"Outliers min -> \", round(outliers.min() , 2))\n",
    "print(\"Extreme_outliers max-> \", round(extreme_outliers.max(), 2))\n",
    "print(\"Extreme_outliers min-> \", round(extreme_outliers.min(), 2))"
   ]
  },
  {
   "cell_type": "code",
   "execution_count": 240,
   "outputs": [
    {
     "name": "stdout",
     "output_type": "stream",
     "text": [
      "IQR->  13.38\n",
      "Outliers max ->  77.85\n",
      "Outliers min ->  4.04\n",
      "Extreme_outliers max->  nan\n",
      "Extreme_outliers min->  nan\n"
     ]
    }
   ],
   "source": [
    "Q1 = marsvrouwtjes.quantile(0.25)\n",
    "Q3 = marsvrouwtjes.quantile(0.75)\n",
    "IQR = Q3 - Q1\n",
    "\n",
    "outliers = marsvrouwtjes[(marsvrouwtjes <  (Q1 - 1.5 *  IQR)) | (marsvrouwtjes  > (Q3 +  1.5 * IQR))]\n",
    "\n",
    "extreme_outliers =  marsvrouwtjes[(marsvrouwtjes < (Q1 - 3 * IQR)) | (marsvrouwtjes > (Q3 + 3 * IQR))]\n",
    "\n",
    "\n",
    "print(\"IQR-> \", round(IQR, 2))\n",
    "print(\"Outliers max -> \", round(outliers.max() , 2))\n",
    "print(\"Outliers min -> \", round(outliers.min() , 2))\n",
    "print(\"Extreme_outliers max-> \", round(extreme_outliers.max(), 2))\n",
    "print(\"Extreme_outliers min-> \", round(extreme_outliers.min(), 2))"
   ],
   "metadata": {
    "collapsed": false
   }
  },
  {
   "cell_type": "markdown",
   "metadata": {
    "collapsed": false,
    "id": "hI1s8vGnPWBA"
   },
   "source": [
    "14. Bereken het meetkundig gemiddelde van de mannetjes. Heeft dit hier nut?"
   ]
  },
  {
   "cell_type": "code",
   "execution_count": 241,
   "metadata": {
    "id": "rt3w0Cg2GoTK"
   },
   "outputs": [
    {
     "name": "stdout",
     "output_type": "stream",
     "text": [
      "Meetkundig gemiddelde ->  69.430905879538\n"
     ]
    }
   ],
   "source": [
    "# ?\n",
    "\n",
    "marsmannetjes = marsmannetjes / 100 + 1\n",
    "\n",
    "meetkundig_gemiddelde = (np.exp(np.mean(np.log(marsmannetjes))) - 1) * 100\n",
    "\n",
    "print(\"Meetkundig gemiddelde -> \", meetkundig_gemiddelde)"
   ]
  },
  {
   "cell_type": "markdown",
   "metadata": {
    "collapsed": false,
    "id": "ETg0e3GfPWBA"
   },
   "source": [
    "15. Bereken het harmonisch gemiddlede van de vrouwtjes. Heeft dit hier nut?"
   ]
  },
  {
   "cell_type": "code",
   "execution_count": 242,
   "metadata": {
    "id": "qP-C65IGGoTK"
   },
   "outputs": [
    {
     "name": "stdout",
     "output_type": "stream",
     "text": [
      "Harmonisch gemiddlede ->  37.2024864328112\n"
     ]
    }
   ],
   "source": [
    "# ?\n",
    "\n",
    "harmonisch_gemiddlede = 1 / np.mean(1 / marsvrouwtjes)\n",
    "\n",
    "print(\"Harmonisch gemiddlede -> \", harmonisch_gemiddlede)"
   ]
  }
 ],
 "metadata": {
  "colab": {
   "provenance": [],
   "toc_visible": true
  },
  "kernelspec": {
   "display_name": "Python 3",
   "language": "python",
   "name": "python3"
  },
  "language_info": {
   "codemirror_mode": {
    "name": "ipython",
    "version": 3
   },
   "file_extension": ".py",
   "mimetype": "text/x-python",
   "name": "python",
   "nbconvert_exporter": "python",
   "pygments_lexer": "ipython3",
   "version": "3.7.4"
  }
 },
 "nbformat": 4,
 "nbformat_minor": 0
}
