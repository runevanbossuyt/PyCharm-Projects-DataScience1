{
  "cells": [
    {
      "cell_type": "markdown",
      "metadata": {
        "collapsed": false,
        "id": "O2zgPdNuPWAW"
      },
      "source": [
        "Setup"
      ]
    },
    {
      "cell_type": "code",
      "execution_count": null,
      "metadata": {
        "id": "T791QiANGoTC"
      },
      "outputs": [],
      "source": [
        "# hier komt jouw oplossing"
      ]
    },
    {
      "cell_type": "markdown",
      "metadata": {
        "collapsed": false,
        "id": "fm0HLVbqPWAt"
      },
      "source": [
        "# Marsbewoners\n",
        "\n",
        "In deze opgave gaan we:\n",
        "\n",
        "-  spreidingsmaten  en centrummaten berekenen in Python voor een dataset\n",
        "-  een boxplot en histogram uitvoeren in Python en interpreteren.\n",
        "-  gemiddelde, standaardafwijking, mediaan en kwartielen berekenen en uitschieters detecteren."
      ]
    },
    {
      "cell_type": "markdown",
      "metadata": {
        "collapsed": false,
        "id": "JRG7zYfnPWAu"
      },
      "source": [
        "## Vraag 1: Marsbewoners\n",
        "\n",
        "Bekijk het bijgeleverde bestand: 'marsbewoners.txt'.  Hierin staan de lengtes van 10.000 marsbewoners die gemeten werden (in cm) door de mars exploration rovers.  Probeer dit bestand in te laden."
      ]
    },
    {
      "cell_type": "code",
      "execution_count": null,
      "metadata": {
        "id": "7qydWRNKGoTF"
      },
      "outputs": [],
      "source": [
        "# hier komt jouw oplossing"
      ]
    },
    {
      "cell_type": "markdown",
      "metadata": {
        "collapsed": false,
        "id": "A6SsG-n3PWAx",
        "pycharm": {
          "name": "#%% md\n"
        }
      },
      "source": [
        "Geef antwoord op de volgende vragen:"
      ]
    },
    {
      "cell_type": "markdown",
      "metadata": {
        "collapsed": false,
        "id": "J0sCSXZ-PWAx",
        "pycharm": {
          "name": "#%% md\n"
        }
      },
      "source": [
        "1. Wat is de gemiddelde lengte van een marsbewoner?"
      ]
    },
    {
      "cell_type": "code",
      "execution_count": null,
      "metadata": {
        "id": "83B_RbQ-GoTG"
      },
      "outputs": [],
      "source": [
        "# hier komt jouw oplossing"
      ]
    },
    {
      "cell_type": "markdown",
      "metadata": {
        "collapsed": false,
        "id": "xaBX8i1tPWAy",
        "pycharm": {
          "name": "#%% md\n"
        }
      },
      "source": [
        "2. Wat is de mediaan?  Wat betekent dit?"
      ]
    },
    {
      "cell_type": "code",
      "execution_count": null,
      "metadata": {
        "id": "TTNXxSbhGoTH"
      },
      "outputs": [],
      "source": [
        "# hier komt jouw oplossing"
      ]
    },
    {
      "cell_type": "markdown",
      "metadata": {
        "collapsed": false,
        "id": "6st7M77rPWA0",
        "pycharm": {
          "name": "#%% md\n"
        }
      },
      "source": [
        "3. Wat is de gemiddelde absolute afwijking?  Wat betekent dit?"
      ]
    },
    {
      "cell_type": "code",
      "execution_count": null,
      "metadata": {
        "id": "Sb9u0YUaGoTH"
      },
      "outputs": [],
      "source": [
        "# hier komt jouw oplossing"
      ]
    },
    {
      "cell_type": "markdown",
      "metadata": {
        "collapsed": false,
        "id": "C0GdgBLmPWA1",
        "pycharm": {
          "name": "#%% md\n"
        }
      },
      "source": [
        "4. Wat is de standaardafwijking?  Wat betekent dit?"
      ]
    },
    {
      "cell_type": "code",
      "execution_count": null,
      "metadata": {
        "id": "ETs0sVSKGoTH"
      },
      "outputs": [],
      "source": [
        "# hier komt jouw oplossing"
      ]
    },
    {
      "cell_type": "markdown",
      "metadata": {
        "collapsed": false,
        "id": "xFRtN3owPWA2",
        "pycharm": {
          "name": "#%% md\n"
        }
      },
      "source": [
        "5. Bepaal de kwartielen en de decielen (experimenteer met de kwantielen om dit te vinden)\n",
        "\n",
        "    - 20% van de marsbewoners is kleiner dan ... cm (gebruik de decielen)\n",
        "    - Het percentage marsbewoners dat kleiner of gelijk is aan 60 cm is ..."
      ]
    },
    {
      "cell_type": "code",
      "execution_count": null,
      "metadata": {
        "id": "Y_GS3P9WGoTI"
      },
      "outputs": [],
      "source": [
        "# hier komt jouw oplossing"
      ]
    },
    {
      "cell_type": "markdown",
      "metadata": {
        "collapsed": false,
        "id": "EJJ_mfjGPWA3"
      },
      "source": [
        "6. Teken een boxplot van de lengte van de marsbewoners.  Welke informatie zie je hier?\n",
        "\n",
        "Lees nu volgende zaken af op de boxplot:\n",
        "\n",
        "- Het bereik is ...\n",
        "- De mediaan ligt tussen...\n",
        "- Het eerste kwantiel Q1 ligt rond...\n",
        "- Het derde kwantiel ligt tussen....\n",
        "- Wanneer spreken we van een outlier (uitschieter)?\n"
      ]
    },
    {
      "cell_type": "code",
      "execution_count": null,
      "metadata": {
        "id": "mZbNsfcsGoTI"
      },
      "outputs": [],
      "source": [
        "# hier komt jouw oplossing"
      ]
    },
    {
      "cell_type": "code",
      "execution_count": null,
      "metadata": {
        "id": "IOpXjmnvGoTI"
      },
      "outputs": [],
      "source": [
        "# hier komt jouw oplossing"
      ]
    },
    {
      "cell_type": "markdown",
      "metadata": {
        "collapsed": false,
        "id": "dDkwikwDPWA4"
      },
      "source": [
        "7. Maak klassen van 5 cm en bepaal de frequenties (laat de klassen beginnen bij 0 cm).  Wat is de modus?"
      ]
    },
    {
      "cell_type": "code",
      "execution_count": null,
      "metadata": {
        "id": "L4MphQg4GoTI"
      },
      "outputs": [],
      "source": [
        "# hier komt jouw oplossing"
      ]
    },
    {
      "cell_type": "markdown",
      "metadata": {
        "collapsed": false,
        "id": "p40qEKY2PWA5"
      },
      "source": [
        "8. Maak klassen van 5 cm en teken een histogram. Wat zie je?  Hoe zou je dit verklaren?  Zie je dit ook als je klassen maakt van 10 cm?"
      ]
    },
    {
      "cell_type": "code",
      "execution_count": null,
      "metadata": {
        "id": "TIfSEvL7GoTJ"
      },
      "outputs": [],
      "source": [
        "# hier komt jouw oplossing"
      ]
    },
    {
      "cell_type": "markdown",
      "metadata": {
        "collapsed": false,
        "id": "zAEGmBTjPWA6"
      },
      "source": [
        "## Vraag 2: Mannelijk en vrouwelijke marsbewoners\n",
        "\n",
        "Open nu de bestanden 'mannetjes.txt' en 'vrouwtjes.txt'.  Hierin staan de lengtes van dezelfde marsbewoners, maar nu per geslacht."
      ]
    },
    {
      "cell_type": "code",
      "execution_count": null,
      "metadata": {
        "id": "YyzkdYXMGoTJ"
      },
      "outputs": [],
      "source": [
        "# hier komt jouw oplossing"
      ]
    },
    {
      "cell_type": "markdown",
      "metadata": {
        "collapsed": false,
        "id": "qox-y0shPWA8"
      },
      "source": [
        "Geef antwoord op de volgende vragen:"
      ]
    },
    {
      "cell_type": "markdown",
      "metadata": {
        "collapsed": false,
        "id": "AzLpoHrVPWA8",
        "pycharm": {
          "name": "#%% md\n"
        }
      },
      "source": [
        "9. Wat zijn de gemiddelde lengtes van een marsmannetje en een marsvrouwtje?"
      ]
    },
    {
      "cell_type": "code",
      "execution_count": null,
      "metadata": {
        "id": "yHDtA6QDGoTJ"
      },
      "outputs": [],
      "source": [
        "# hier komt jouw oplossing"
      ]
    },
    {
      "cell_type": "markdown",
      "metadata": {
        "collapsed": false,
        "id": "CG8orRhIPWA9",
        "pycharm": {
          "name": "#%% md\n"
        }
      },
      "source": [
        "10. Bereken ook de medianen en de standaardafwijkingen"
      ]
    },
    {
      "cell_type": "code",
      "execution_count": null,
      "metadata": {
        "id": "obwcZLs9GoTJ"
      },
      "outputs": [],
      "source": [
        "# hier komt jouw oplossing"
      ]
    },
    {
      "cell_type": "markdown",
      "metadata": {
        "collapsed": false,
        "id": "9fk5-xX-PWA9",
        "pycharm": {
          "name": "#%% md\n"
        }
      },
      "source": [
        "11. Bepaal de kwartielen"
      ]
    },
    {
      "cell_type": "code",
      "execution_count": null,
      "metadata": {
        "id": "risb5CwBGoTK"
      },
      "outputs": [],
      "source": [
        "# hier komt jouw oplossing"
      ]
    },
    {
      "cell_type": "markdown",
      "metadata": {
        "collapsed": false,
        "id": "6Fup2BEtPWA-"
      },
      "source": [
        "12. Maak een boxplot waar je deze twee verdelingen naast elkaar ziet"
      ]
    },
    {
      "cell_type": "code",
      "execution_count": null,
      "metadata": {
        "id": "urZDJBx-GoTK"
      },
      "outputs": [],
      "source": [
        "# hier komt jouw oplossing"
      ]
    },
    {
      "cell_type": "code",
      "execution_count": null,
      "metadata": {
        "id": "0S595mkCGoTK"
      },
      "outputs": [],
      "source": [
        "# hier komt jouw oplossing"
      ]
    },
    {
      "cell_type": "markdown",
      "metadata": {
        "collapsed": false,
        "id": "VsaGKXRfPWA_",
        "pycharm": {
          "name": "#%% md\n"
        }
      },
      "source": [
        "13. Bepaal de grenzen voor uitschieters voor de mannetjes en de vrouwtjes. Welke waarden zijn er telkens uitschieters?  Zijn er extreme uitschieters?  Welk zijn de grenzen daarvoor?"
      ]
    },
    {
      "cell_type": "code",
      "execution_count": null,
      "metadata": {
        "id": "bb_gEuMtGoTK"
      },
      "outputs": [],
      "source": [
        "# hier komt jouw oplossing"
      ]
    },
    {
      "cell_type": "markdown",
      "metadata": {
        "collapsed": false,
        "id": "hI1s8vGnPWBA",
        "pycharm": {
          "name": "#%% md\n"
        }
      },
      "source": [
        "14. Bereken het meetkundig gemiddelde van de mannetjes. Heeft dit hier nut?"
      ]
    },
    {
      "cell_type": "code",
      "execution_count": null,
      "metadata": {
        "id": "rt3w0Cg2GoTK"
      },
      "outputs": [],
      "source": [
        "# hier komt jouw oplossing"
      ]
    },
    {
      "cell_type": "markdown",
      "metadata": {
        "collapsed": false,
        "id": "ETg0e3GfPWBA",
        "pycharm": {
          "name": "#%% md\n"
        }
      },
      "source": [
        "15. Bereken het harmonisch gemiddlede van de vrouwtjes. Heeft dit hier nut?"
      ]
    },
    {
      "cell_type": "code",
      "execution_count": null,
      "metadata": {
        "id": "qP-C65IGGoTK"
      },
      "outputs": [],
      "source": [
        "# hier komt jouw oplossing"
      ]
    }
  ],
  "metadata": {
    "colab": {
      "provenance": [],
      "toc_visible": true
    },
    "kernelspec": {
      "display_name": "Python 3",
      "language": "python",
      "name": "python3"
    },
    "language_info": {
      "codemirror_mode": {
        "name": "ipython",
        "version": 3
      },
      "file_extension": ".py",
      "mimetype": "text/x-python",
      "name": "python",
      "nbconvert_exporter": "python",
      "pygments_lexer": "ipython3",
      "version": "3.7.4"
    }
  },
  "nbformat": 4,
  "nbformat_minor": 0
}