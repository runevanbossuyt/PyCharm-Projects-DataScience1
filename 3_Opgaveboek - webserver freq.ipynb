{
 "cells": [
  {
   "cell_type": "markdown",
   "metadata": {
    "id": "dZDv_fvzaVxZ"
   },
   "source": [
    "---\n",
    "## Webserver\n",
    "---\n",
    "\n",
    "Bekijk het bijgeleverde bestand: \"UofS_access_log\".  Hierin staat een log van een webserver.  Iedere lijn bevat informatie over een request dat naar de server werd gestuurd.  Je vindt per request volgende informatie terug:\n",
    "\n",
    "- de naam of ip-adres van de client\n",
    "- het tijdstip\n",
    "- de HTTP request die gebeurde\n",
    "- de HTTP response code\n",
    "- het aantal bytes in de response\n",
    "\n",
    "---\n",
    "\n",
    "- Lees het bestand in Python.\n",
    "\n",
    "  - Zorg ervoor dat je slechts 5 kolommen overhoudt met de namen: \"client\", \"date\", \"request\", \"response_code\", \"response_length\".  \n",
    "  - Vervang '-' in de response.length door 0\n",
    "\n",
    "Gebruik 3 beduidende cijfers in je antwoorden.\n",
    "\n"
   ]
  },
  {
   "cell_type": "code",
   "execution_count": 328,
   "metadata": {},
   "outputs": [],
   "source": [
    "import pandas as pd\n",
    "import numpy as np\n",
    "import matplotlib.pyplot as plt"
   ]
  },
  {
   "cell_type": "code",
   "execution_count": 329,
   "outputs": [],
   "source": [
    "data = pd.read_csv(\"data/UofS_access_log.small\", sep=\" \", encoding=\"latin\", header=None, on_bad_lines='skip')"
   ],
   "metadata": {
    "collapsed": false
   }
  },
  {
   "cell_type": "code",
   "execution_count": 330,
   "outputs": [
    {
     "data": {
      "text/plain": "                            client                         date  \\\n0              cad49.cadvision.com  [01/Jun/1995:00:53:19-0600]   \n1                    130.89.250.24  [01/Jun/1995:02:45:12-0600]   \n2                    130.54.25.198  [01/Jun/1995:03:29:56-0600]   \n3                     148.81.17.41  [01/Jun/1995:04:02:17-0600]   \n4      anumsun6.univ-st-etienne.fr  [01/Jun/1995:04:40:30-0600]   \n...                            ...                          ...   \n48166                duke.usask.ca  [31/Dec/1995:23:07:50-0600]   \n48167                sask.usask.ca  [31/Dec/1995:23:16:16-0600]   \n48168                  144.92.13.6  [31/Dec/1995:23:25:53-0600]   \n48169            ccc055.canuck.com  [31/Dec/1995:23:32:35-0600]   \n48170      double-tree.ericsson.se  [31/Dec/1995:23:44:25-0600]   \n\n                                             request  response_code  \\\n0            GET /~lowey/webville/icons/blank_32.gif            200   \n1            GET /~lowey/webville/icons/south_32.gif            200   \n2      GET /~macphed/finite/fe_resources/node92.html            200   \n3               GET /~friesend/tolkien/rootpage.html            200   \n4      GET /~macphed/finite/fe_resources/node58.html            200   \n...                                              ...            ...   \n48166           GET /images/comments_50.gif HTTP/1.0            200   \n48167                                 GET / HTTP/1.0            200   \n48168                  GET /~ladd/virginia_pisu.html            200   \n48169               GET /mlookup/white.html HTTP/1.0            200   \n48170                       GET /~scottp/calgary.txt            200   \n\n       response_length  \n0                  167  \n1                  210  \n2                 1668  \n3                  461  \n4                 1707  \n...                ...  \n48166              388  \n48167             3856  \n48168              915  \n48169              728  \n48170            24744  \n\n[48171 rows x 5 columns]",
      "text/html": "<div>\n<style scoped>\n    .dataframe tbody tr th:only-of-type {\n        vertical-align: middle;\n    }\n\n    .dataframe tbody tr th {\n        vertical-align: top;\n    }\n\n    .dataframe thead th {\n        text-align: right;\n    }\n</style>\n<table border=\"1\" class=\"dataframe\">\n  <thead>\n    <tr style=\"text-align: right;\">\n      <th></th>\n      <th>client</th>\n      <th>date</th>\n      <th>request</th>\n      <th>response_code</th>\n      <th>response_length</th>\n    </tr>\n  </thead>\n  <tbody>\n    <tr>\n      <th>0</th>\n      <td>cad49.cadvision.com</td>\n      <td>[01/Jun/1995:00:53:19-0600]</td>\n      <td>GET /~lowey/webville/icons/blank_32.gif</td>\n      <td>200</td>\n      <td>167</td>\n    </tr>\n    <tr>\n      <th>1</th>\n      <td>130.89.250.24</td>\n      <td>[01/Jun/1995:02:45:12-0600]</td>\n      <td>GET /~lowey/webville/icons/south_32.gif</td>\n      <td>200</td>\n      <td>210</td>\n    </tr>\n    <tr>\n      <th>2</th>\n      <td>130.54.25.198</td>\n      <td>[01/Jun/1995:03:29:56-0600]</td>\n      <td>GET /~macphed/finite/fe_resources/node92.html</td>\n      <td>200</td>\n      <td>1668</td>\n    </tr>\n    <tr>\n      <th>3</th>\n      <td>148.81.17.41</td>\n      <td>[01/Jun/1995:04:02:17-0600]</td>\n      <td>GET /~friesend/tolkien/rootpage.html</td>\n      <td>200</td>\n      <td>461</td>\n    </tr>\n    <tr>\n      <th>4</th>\n      <td>anumsun6.univ-st-etienne.fr</td>\n      <td>[01/Jun/1995:04:40:30-0600]</td>\n      <td>GET /~macphed/finite/fe_resources/node58.html</td>\n      <td>200</td>\n      <td>1707</td>\n    </tr>\n    <tr>\n      <th>...</th>\n      <td>...</td>\n      <td>...</td>\n      <td>...</td>\n      <td>...</td>\n      <td>...</td>\n    </tr>\n    <tr>\n      <th>48166</th>\n      <td>duke.usask.ca</td>\n      <td>[31/Dec/1995:23:07:50-0600]</td>\n      <td>GET /images/comments_50.gif HTTP/1.0</td>\n      <td>200</td>\n      <td>388</td>\n    </tr>\n    <tr>\n      <th>48167</th>\n      <td>sask.usask.ca</td>\n      <td>[31/Dec/1995:23:16:16-0600]</td>\n      <td>GET / HTTP/1.0</td>\n      <td>200</td>\n      <td>3856</td>\n    </tr>\n    <tr>\n      <th>48168</th>\n      <td>144.92.13.6</td>\n      <td>[31/Dec/1995:23:25:53-0600]</td>\n      <td>GET /~ladd/virginia_pisu.html</td>\n      <td>200</td>\n      <td>915</td>\n    </tr>\n    <tr>\n      <th>48169</th>\n      <td>ccc055.canuck.com</td>\n      <td>[31/Dec/1995:23:32:35-0600]</td>\n      <td>GET /mlookup/white.html HTTP/1.0</td>\n      <td>200</td>\n      <td>728</td>\n    </tr>\n    <tr>\n      <th>48170</th>\n      <td>double-tree.ericsson.se</td>\n      <td>[31/Dec/1995:23:44:25-0600]</td>\n      <td>GET /~scottp/calgary.txt</td>\n      <td>200</td>\n      <td>24744</td>\n    </tr>\n  </tbody>\n</table>\n<p>48171 rows × 5 columns</p>\n</div>"
     },
     "metadata": {},
     "output_type": "display_data"
    }
   ],
   "source": [
    "client = data.iloc[:,0]\n",
    "date = data.iloc[:,3] + data.iloc[:,4]\n",
    "request = data.iloc[:,5]\n",
    "response_code = data.iloc[:,6]\n",
    "response_length = data.iloc[:,7]\n",
    "log = pd.DataFrame({\n",
    "    \"client\":client,\n",
    "    \"date\":date,\n",
    "    \"request\":request,\n",
    "    \"response_code\":response_code,\n",
    "    \"response_length\":response_length\n",
    "})\n",
    "\n",
    "log['response_length'] = log['response_length'].replace('-', 0).astype(int)\n",
    "\n",
    "display(log) # Test"
   ],
   "metadata": {
    "collapsed": false
   }
  },
  {
   "cell_type": "markdown",
   "metadata": {
    "id": "UFr6FpWmajji"
   },
   "source": [
    "### Oefening 1\n",
    "Welke response code komt het meest voor?  Aan de hand van welke frequenties kan je dit zien?\n"
   ]
  },
  {
   "cell_type": "code",
   "execution_count": 331,
   "metadata": {},
   "outputs": [
    {
     "data": {
      "text/plain": "<Figure size 1000x500 with 1 Axes>",
      "image/png": "[encoded data removed]"
     },
     "metadata": {},
     "output_type": "display_data"
    }
   ],
   "source": [
    "frequence = log.response_code.value_counts()\n",
    "\n",
    "code = [\"200\",\"304\",\"302\",\"404\",\"400\",\"500\",\"403\",\"401\"]\n",
    "\n",
    "\n",
    "fig, ax = plt.subplots(figsize=(10, 5))\n",
    "_ = ax.bar(x=code, height=frequence, color='green')\n",
    "_ = ax.set_xlabel('Response Code')\n",
    "_ = ax.set_ylabel('Frequence')"
   ]
  },
  {
   "cell_type": "markdown",
   "metadata": {
    "id": "Na577uB7anV5"
   },
   "source": [
    "### Oefening 2\n",
    "Hoeveel procent van de requests bevat een response code die groter is dan 200?\n"
   ]
  },
  {
   "cell_type": "code",
   "execution_count": 332,
   "metadata": {},
   "outputs": [
    {
     "name": "stdout",
     "output_type": "stream",
     "text": [
      "Cumulatief percentage bij code 200: 90.96%\n"
     ]
    }
   ],
   "source": [
    "frequence = log.response_code.value_counts()\n",
    "\n",
    "code = [200,304,302,404,400,500,403,401]\n",
    "\n",
    "df = pd.DataFrame({'code':code,'frequence':frequence})\n",
    "\n",
    "cum_frequentie = df[df['code']<=200]['frequence'].sum()\n",
    "\n",
    "totaal_frequentie = df['frequence'].sum()\n",
    "cum_percentage = cum_frequentie/totaal_frequentie*100\n",
    "\n",
    "print(f\"Cumulatief percentage bij code 200: {cum_percentage:.2f}%\")"
   ]
  },
  {
   "cell_type": "markdown",
   "metadata": {
    "id": "XEcDvnCpanSx"
   },
   "source": [
    "### Oefening 3  \n",
    "\n",
    "Hoeveel keer komt een response code 401 voor?\n"
   ]
  },
  {
   "cell_type": "code",
   "execution_count": 333,
   "metadata": {},
   "outputs": [
    {
     "name": "stdout",
     "output_type": "stream",
     "text": [
      "Hoe vaak komt cod 401 voor: 3\n"
     ]
    }
   ],
   "source": [
    "frequence = log.response_code.value_counts()\n",
    "\n",
    "code = [200,304,302,404,400,500,403,401]\n",
    "\n",
    "df = pd.DataFrame({'code':code,'frequence':frequence})\n",
    "\n",
    "x = df[df['code']==401]['frequence'].sum()\n",
    "\n",
    "\n",
    "print(f\"Hoe vaak komt cod 401 voor: {x:d}\")"
   ]
  },
  {
   "cell_type": "markdown",
   "metadata": {
    "id": "O3sbq8MKanQH"
   },
   "source": [
    "### Oefening 4  \n",
    "\n",
    "Welke documenten werden opgevraagd bij een response code 401?\n"
   ]
  },
  {
   "cell_type": "code",
   "execution_count": 334,
   "metadata": {},
   "outputs": [
    {
     "name": "stdout",
     "output_type": "stream",
     "text": [
      "GET /dcs/pts/variables.html?KEVIN_TEST=HELLO HTTP/1.0\n",
      "GET /dcs/pts/ HTTP/1.0\n",
      "GET /dcs/pts/cgi-bin/record.html HTTP/1.0\n"
     ]
    }
   ],
   "source": [
    "x = 0\n",
    "for i in log.response_code:\n",
    "    if i == 401:\n",
    "        print(log.request.iloc[x])\n",
    "    x += 1"
   ]
  },
  {
   "cell_type": "markdown",
   "metadata": {
    "id": "MnCT0eSmanNz"
   },
   "source": [
    "### Oefening 5  \n",
    "\n",
    "Welke clients probeerden ongeautoriseerd een document te raadplegen?\n"
   ]
  },
  {
   "cell_type": "code",
   "execution_count": 335,
   "metadata": {},
   "outputs": [
    {
     "name": "stdout",
     "output_type": "stream",
     "text": [
      "duke.usask.ca\n",
      "manitou1_5.usask.ca\n",
      "cwis.usask.ca\n"
     ]
    }
   ],
   "source": [
    "x = 0\n",
    "for i in log.response_code:\n",
    "    if i == 401:\n",
    "        print(log.client.iloc[x])\n",
    "    x += 1"
   ]
  },
  {
   "cell_type": "markdown",
   "metadata": {
    "id": "qA-kMLtaanK3"
   },
   "source": [
    "### Oefening 6  \n",
    "\n",
    "Welke client probeerde het meest een ongeautoriseerd een document te raadplegen?\n"
   ]
  },
  {
   "cell_type": "code",
   "execution_count": 336,
   "metadata": {},
   "outputs": [
    {
     "name": "stdout",
     "output_type": "stream",
     "text": [
      "cwis.usask.ca\n"
     ]
    }
   ],
   "source": [
    "x = 0\n",
    "client = []\n",
    "for i in log.response_code:\n",
    "    if i == 401:\n",
    "        client = client + [log.client.iloc[x]]\n",
    "\n",
    "    x += 1\n",
    "\n",
    "unique, counts = np.unique(client, return_counts=True)\n",
    "most_common = unique[np.argmax(counts)]\n",
    "\n",
    "print(most_common)"
   ]
  },
  {
   "cell_type": "markdown",
   "metadata": {
    "id": "0QHf8o38anIG"
   },
   "source": [
    "### Oefening 7\n",
    "\n",
    "Maak een taartdiagram van de response codes die niet gelijk zijn aan 200.\n"
   ]
  },
  {
   "cell_type": "code",
   "execution_count": 337,
   "metadata": {},
   "outputs": [
    {
     "data": {
      "text/plain": "<Figure size 640x480 with 1 Axes>",
      "image/png": "[encoded data removed]"
     },
     "metadata": {},
     "output_type": "display_data"
    }
   ],
   "source": [
    "frequence = log.response_code.value_counts()\n",
    "\n",
    "# code = [200,304,302,404,400,500,403,401]\n",
    "\n",
    "# df = pd.DataFrame({'code':code,'frequence':frequence})\n",
    "#\n",
    "# codeA = df[df['code']==304]['frequence'].sum()\n",
    "# codeB = df[df['code']==302]['frequence'].sum()\n",
    "# codeC = df[df['code']==404]['frequence'].sum()\n",
    "# codeD = df[df['code']==400]['frequence'].sum()\n",
    "# codeE = df[df['code']==500]['frequence'].sum()\n",
    "# codeF = df[df['code']==403]['frequence'].sum()\n",
    "# codeG = df[df['code']==401]['frequence'].sum()\n",
    "#\n",
    "# data = pd.Series([codeA,codeB,codeC,codeD,codeE,codeF,codeG])\n",
    "\n",
    "frequence = frequence.drop(200)\n",
    "\n",
    "label = [304,302,404,400,500,403,401]\n",
    "\n",
    "fig, ax = plt.subplots()\n",
    "_ = ax.pie(frequence, labels=label, shadow=True)\n",
    "_ = ax.set_title('Response Code')"
   ]
  },
  {
   "cell_type": "markdown",
   "metadata": {
    "id": "TGs3OLD-anCj"
   },
   "source": [
    "### Oefening 8  \n",
    "\n",
    "Maak een staafdiagram van dezelfde response codes.  Merk het verschil op in leesbaarheid tussen deze en de vorige afbeelding\n"
   ]
  },
  {
   "cell_type": "code",
   "execution_count": 338,
   "metadata": {},
   "outputs": [
    {
     "data": {
      "text/plain": "<Figure size 1000x500 with 1 Axes>",
      "image/png": "[encoded data removed]"
     },
     "metadata": {},
     "output_type": "display_data"
    }
   ],
   "source": [
    "frequence = log.response_code.value_counts()\n",
    "frequence = frequence.drop(200)\n",
    "\n",
    "label = [304,302,404,400,500,403,401]\n",
    "\n",
    "fig, ax = plt.subplots(figsize=(10, 5))\n",
    "\n",
    "_ = ax.bar(x=label, height=frequence, color='green')\n",
    "_ = ax.set_title('Response Code')\n",
    "_ = ax.set_xlabel('Code')\n",
    "_ = ax.set_ylabel('Frequence')"
   ]
  },
  {
   "cell_type": "markdown",
   "metadata": {
    "id": "nwJ_1UoFbtXi"
   },
   "source": [
    "### Oefening 9  \n",
    "\n",
    "Welke response code komt hier het meest voor?  Wat betekent deze response code?\n"
   ]
  },
  {
   "cell_type": "code",
   "execution_count": 339,
   "metadata": {},
   "outputs": [],
   "source": [
    "# The HTTP 304 Not Modified client redirection response code indicates that there is no need to retransmit the requested resources. It is an implicit redirection to a cached resource. This happens when the request method is a safe method, such as GET or HEAD, or when the request is conditional and uses an If-None-Match or an If-Modified-Since header."
   ]
  },
  {
   "cell_type": "markdown",
   "metadata": {
    "id": "wk8lO5B1btUX"
   },
   "source": [
    "### Oefening 10  \n",
    "\n",
    "Hoe groot is de langste response die gestuurd werd?  Welk bestand werd hier doorgestuurd?\n"
   ]
  },
  {
   "cell_type": "code",
   "execution_count": 340,
   "metadata": {},
   "outputs": [
    {
     "name": "stdout",
     "output_type": "stream",
     "text": [
      "2790949\n",
      "GET /~reevesm/sounds/sultans.au\n"
     ]
    }
   ],
   "source": [
    "# (1)\n",
    "print(max(log.response_length))\n",
    "\n",
    "# (2)\n",
    "x = 0\n",
    "for i in log.response_length:\n",
    "    if max(log.response_length) == i:\n",
    "        print(log.request.iloc[x])\n",
    "    x += 1\n"
   ]
  },
  {
   "cell_type": "markdown",
   "metadata": {
    "id": "Jkw4b15RbtRz"
   },
   "source": [
    "### Oefening 11  \n",
    "\n",
    "Selecteer alle regels waarbij response_length kleiner is dan 30 000 bytes.  Maak klassen van de response_length met klassenbreedte gelijk aan 1000 bytes, waarbij de linker-grens steeds bij de klasse hoort.  Hoeveel responses hebben een lengte kleiner dan 1000 bytes?\n"
   ]
  },
  {
   "cell_type": "code",
   "execution_count": 341,
   "metadata": {},
   "outputs": [
    {
     "name": "stdout",
     "output_type": "stream",
     "text": [
      "(-0.001, 1000.0]      15535\n",
      "(1000.0, 2000.0]      11379\n",
      "(2000.0, 3000.0]       5682\n",
      "(3000.0, 4000.0]       4603\n",
      "(4000.0, 5000.0]       1809\n",
      "(5000.0, 6000.0]       1493\n",
      "(6000.0, 7000.0]       1575\n",
      "(7000.0, 8000.0]        644\n",
      "(8000.0, 9000.0]        304\n",
      "(9000.0, 10000.0]       143\n",
      "(10000.0, 11000.0]      197\n",
      "(11000.0, 12000.0]      141\n",
      "(12000.0, 13000.0]      247\n",
      "(13000.0, 14000.0]       99\n",
      "(14000.0, 15000.0]      162\n",
      "(15000.0, 16000.0]       52\n",
      "(16000.0, 17000.0]      145\n",
      "(17000.0, 18000.0]       66\n",
      "(18000.0, 19000.0]       59\n",
      "(19000.0, 20000.0]       89\n",
      "(20000.0, 21000.0]       51\n",
      "(21000.0, 22000.0]       59\n",
      "(22000.0, 23000.0]      929\n",
      "(23000.0, 24000.0]      389\n",
      "(24000.0, 25000.0]      133\n",
      "(25000.0, 26000.0]      177\n",
      "(26000.0, 27000.0]       36\n",
      "(27000.0, 28000.0]      185\n",
      "(28000.0, 29000.0]       87\n",
      "(29000.0, 30000.0]       53\n",
      "Name: response_length, dtype: int64\n",
      "Het aantal responses met een lengte kleiner dan 1000 bytes is: 15534\n"
     ]
    }
   ],
   "source": [
    "length = log.response_length\n",
    "\n",
    "cutpoints = range(0,30001,1000)\n",
    "\n",
    "klassen = pd.cut(length, bins=cutpoints, include_lowest=True)\n",
    "\n",
    "data = klassen.value_counts().sort_index()\n",
    "\n",
    "print(data) # TEST\n",
    "\n",
    "# Bepaal aantal responses met lengte kleiner dan 1000 bytes\n",
    "n_responses_lt_1000 = len(log[log['response_length'] < 1000])\n",
    "\n",
    "\n",
    "\n",
    "# Print aantal responses met lengte kleiner dan 1000 bytes\n",
    "print(f\"Het aantal responses met een lengte kleiner dan 1000 bytes is: {n_responses_lt_1000}\")"
   ]
  },
  {
   "cell_type": "markdown",
   "metadata": {
    "id": "SJi-ni0NbtO_"
   },
   "source": [
    "### Oefening 12  \n",
    "\n",
    "Hoeveel procent van de responses zijn tussen de 1000 en 2000 bytes groot?\n"
   ]
  },
  {
   "cell_type": "code",
   "execution_count": 342,
   "metadata": {},
   "outputs": [
    {
     "name": "stdout",
     "output_type": "stream",
     "text": [
      "Cumulatief percentage bij 1000 en 2000 bytes: 36.67%\n"
     ]
    }
   ],
   "source": [
    "length = log.response_length\n",
    "\n",
    "cutpoints = range(0,30001,1000)\n",
    "\n",
    "klassen = pd.cut(length, bins=cutpoints, include_lowest=True)\n",
    "\n",
    "frequentie = klassen.value_counts().sort_index()\n",
    "\n",
    "klassen = range(0, 30000, 1000)\n",
    "\n",
    "df = pd.DataFrame({'klassen':klassen,'frequentie':frequentie})\n",
    "\n",
    "cum_frequentie = df[df['klassen'].between(1000, 2000)]['frequentie'].sum()\n",
    "\n",
    "totaal_frequentie = df['frequentie'].sum()\n",
    "cum_percentage = cum_frequentie/totaal_frequentie*100\n",
    "\n",
    "print(f\"Cumulatief percentage bij 1000 en 2000 bytes: {cum_percentage:.2f}%\")"
   ]
  },
  {
   "cell_type": "markdown",
   "metadata": {
    "id": "kcHPI81sbtMQ"
   },
   "source": [
    "### Oefening 13  \n",
    "\n",
    "Hoeveel procent van de responses zijn kleiner dan 6000 bytes?\n"
   ]
  },
  {
   "cell_type": "code",
   "execution_count": 343,
   "metadata": {},
   "outputs": [
    {
     "name": "stdout",
     "output_type": "stream",
     "text": [
      "Cumulatief percentage kleiner dan 6000 bytes: 87.06%\n"
     ]
    }
   ],
   "source": [
    "length = log.response_length\n",
    "\n",
    "cutpoints = range(0,30001,1000)\n",
    "\n",
    "klassen = pd.cut(length, bins=cutpoints, include_lowest=True)\n",
    "\n",
    "frequentie = klassen.value_counts().sort_index()\n",
    "\n",
    "klassen = range(0, 30000, 1000)\n",
    "\n",
    "df = pd.DataFrame({'klassen':klassen,'frequentie':frequentie})\n",
    "\n",
    "cum_frequentie = df[df['klassen']<6000]['frequentie'].sum()\n",
    "\n",
    "totaal_frequentie = df['frequentie'].sum()\n",
    "cum_percentage = cum_frequentie/totaal_frequentie*100\n",
    "\n",
    "print(f\"Cumulatief percentage kleiner dan 6000 bytes: {cum_percentage:.2f}%\")"
   ]
  },
  {
   "cell_type": "markdown",
   "metadata": {
    "id": "NJorO7H-btJR"
   },
   "source": [
    "### Oefening 14  \n",
    "\n",
    "Is een response van 5000-6000 bytes groot of klein?\n"
   ]
  },
  {
   "cell_type": "code",
   "execution_count": 344,
   "metadata": {},
   "outputs": [
    {
     "name": "stdout",
     "output_type": "stream",
     "text": [
      "Cumulatief percentage bij 5000 en 6000 bytes -> 6.59% dus groter\n"
     ]
    }
   ],
   "source": [
    "length = log.response_length\n",
    "\n",
    "cutpoints = range(0,30001,1000)\n",
    "\n",
    "klassen = pd.cut(length, bins=cutpoints, include_lowest=True)\n",
    "\n",
    "frequentie = klassen.value_counts().sort_index()\n",
    "\n",
    "klassen = range(0, 30000, 1000)\n",
    "\n",
    "df = pd.DataFrame({'klassen':klassen,'frequentie':frequentie})\n",
    "\n",
    "cum_frequentie = df[df['klassen'].between(5000, 6000)]['frequentie'].sum()\n",
    "\n",
    "totaal_frequentie = df['frequentie'].sum()\n",
    "cum_percentage = cum_frequentie/totaal_frequentie*100\n",
    "\n",
    "# Als minder Als de helft deze capaciteit heeft, wordt het gezien als groot. (Klopt niet helemaal omdat ik .between(5000, 6000) gebruik kan ook met >=<)\n",
    "if cum_percentage < 50:\n",
    "    print(f\"Cumulatief percentage bij 5000 en 6000 bytes -> {cum_percentage:.2f}% dus groter\")\n",
    "else:\n",
    "    print(f\"Cumulatief percentage bij 5000 en 6000 bytes -> {cum_percentage:.2f}% dus klein\")"
   ]
  },
  {
   "cell_type": "markdown",
   "metadata": {
    "id": "nasjSzRtbtF6"
   },
   "source": [
    "### Oefening 15  \n",
    "\n",
    "Teken een barplot (Staafdiagram) van de absolute frequenties\n"
   ]
  },
  {
   "cell_type": "code",
   "execution_count": 345,
   "metadata": {},
   "outputs": [],
   "source": [
    "length = log.response_length\n",
    "\n",
    "cutpoints = range(0,30001,1000)\n",
    "\n",
    "klassen = pd.cut(length, bins=cutpoints, include_lowest=True)\n",
    "\n",
    "frequentie = klassen.value_counts().sort_index()"
   ]
  },
  {
   "cell_type": "code",
   "execution_count": 346,
   "outputs": [
    {
     "name": "stdout",
     "output_type": "stream",
     "text": [
      "\n"
     ]
    },
    {
     "data": {
      "text/plain": "<Figure size 1000x500 with 1 Axes>",
      "image/png": "[encoded data removed]"
     },
     "metadata": {},
     "output_type": "display_data"
    }
   ],
   "source": [
    "l = range(0, 30000, 1000)\n",
    "\n",
    "fig, ax = plt.subplots(figsize=(10, 5))\n",
    "_ = ax.bar(x=l, height=frequentie, color='green')\n",
    "_ = ax.set_title('Frequentie response length')\n",
    "\n",
    "print()"
   ],
   "metadata": {
    "collapsed": false
   }
  }
 ],
 "metadata": {
  "colab": {
   "authorship_tag": "ABX9TyMObJaHn9R5PO0sQgVlAWqr",
   "collapsed_sections": [],
   "name": "webserver_freq_oplossing.ipynb",
   "provenance": [],
   "toc_visible": true
  },
  "kernelspec": {
   "display_name": "Python 3",
   "language": "python",
   "name": "python3"
  },
  "language_info": {
   "codemirror_mode": {
    "name": "ipython",
    "version": 3
   },
   "file_extension": ".py",
   "mimetype": "text/x-python",
   "name": "python",
   "nbconvert_exporter": "python",
   "pygments_lexer": "ipython3",
   "version": "3.8.7"
  }
 },
 "nbformat": 4,
 "nbformat_minor": 1
}
