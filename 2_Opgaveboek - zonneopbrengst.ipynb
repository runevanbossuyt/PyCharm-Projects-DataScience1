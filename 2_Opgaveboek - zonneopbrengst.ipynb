{
 "cells": [
  {
   "cell_type": "markdown",
   "metadata": {},
   "source": [
    "# Opgaveboek - zonneopbrengst\n",
    "\n",
    "Bekijk het bijgeleverde bestand: \"zonneopbrengst.txt\".  Hierin staat de opbrengst van zonnepannelen in KWh.  Iedere dag is er een meting gedaan.\n",
    "We willen hiervan een frequentieverdeling van maken (om antwoord te kunnen geven op vragen als: hoeveel dagen is er een opbrengst geweest van 1 KWh?).\n",
    "\n",
    "- lees het bestand in\n",
    "- Je maakt best eerst klassen aan (de variabele is continu).  Gebruik een klassenbreedte van 1KWh en zorg dat de linker-grens steeds bij het interval hoort\n",
    "\n",
    "\n"
   ]
  },
  {
   "cell_type": "markdown",
   "metadata": {},
   "source": [
    "### Import van de libraries en inlezen van zonneopbrengst.txt\n",
    "\n",
    "- lees het bestand zonneopbrengst.txt in in een dataframe\n",
    "- Geef de kolom de naam 'metingen'\n",
    "- Ouput de eerste 5 rijen van het dataframe"
   ]
  },
  {
   "cell_type": "code",
   "execution_count": 1,
   "metadata": {},
   "outputs": [],
   "source": [
    "import pandas as pd\n",
    "import numpy as np\n",
    "import matplotlib.pyplot as plt"
   ]
  },
  {
   "cell_type": "code",
   "execution_count": 2,
   "outputs": [
    {
     "name": "stdout",
     "output_type": "stream",
     "text": [
      "   metingen\n",
      "0      4.50\n",
      "1      7.41\n",
      "2      5.66\n",
      "3      6.85\n",
      "4      7.87\n"
     ]
    }
   ],
   "source": [
    "# (1)\n",
    "metingen = pd.read_csv('data/zonneopbrengst.txt', decimal='.')\n",
    "# (2)\n",
    "metingen.columns = ['metingen']\n",
    "# (3)\n",
    "print(metingen.iloc[0:5])"
   ],
   "metadata": {
    "collapsed": false
   }
  },
  {
   "cell_type": "markdown",
   "metadata": {},
   "source": [
    "### Deel de kolom metingen op in klassen\n",
    "- Bepaal het maximum van alle metingen. We willen immers dat alle metingen in een \n",
    "klasse terechtkomen.\n",
    "- Maak nu klassen aan met een breedte van 1kWh.\n",
    "- Zorg ervoor dat de linkergrens hoort er telkens bijhoort."
   ]
  },
  {
   "cell_type": "code",
   "execution_count": 3,
   "metadata": {},
   "outputs": [
    {
     "name": "stdout",
     "output_type": "stream",
     "text": [
      "metingen    15.97\n",
      "dtype: float64\n"
     ]
    }
   ],
   "source": [
    "# (1)\n",
    "max = metingen.max()\n",
    "print(max) # TEST\n",
    "# (2), (3)\n",
    "cutpoints =range(0, int(max), 1)\n",
    "klassen = pd.cut(metingen.metingen, bins=cutpoints, include_lowest=True)"
   ]
  },
  {
   "cell_type": "markdown",
   "metadata": {},
   "source": [
    "### Vraag 1  \n",
    "\n",
    "- Bepaal de frequentie per klasse en toon dit in een tabel.\n",
    "\n"
   ]
  },
  {
   "cell_type": "code",
   "execution_count": 4,
   "metadata": {},
   "outputs": [
    {
     "name": "stdout",
     "output_type": "stream",
     "text": [
      "               metingen\n",
      "(-0.001, 1.0]       254\n",
      "(1.0, 2.0]          150\n",
      "(2.0, 3.0]          114\n",
      "(3.0, 4.0]           94\n",
      "(4.0, 5.0]           84\n",
      "(5.0, 6.0]           95\n",
      "(6.0, 7.0]          101\n",
      "(7.0, 8.0]          112\n",
      "(8.0, 9.0]           81\n",
      "(9.0, 10.0]          54\n",
      "(10.0, 11.0]         42\n",
      "(11.0, 12.0]         30\n",
      "(12.0, 13.0]          3\n",
      "(13.0, 14.0]          0\n"
     ]
    }
   ],
   "source": [
    "frequentie = pd.DataFrame(klassen.value_counts().sort_index())\n",
    "\n",
    "print(frequentie)"
   ]
  },
  {
   "cell_type": "markdown",
   "metadata": {},
   "source": [
    "###  Vraag 2  \n",
    "\n",
    "Plot de frequenties in een diagram (welk soort diagram is hier op zijn plaats?)\n",
    "\n"
   ]
  },
  {
   "cell_type": "code",
   "execution_count": 5,
   "metadata": {},
   "outputs": [
    {
     "data": {
      "text/plain": "<Figure size 640x480 with 1 Axes>",
      "image/png": "[encoded data removed]"
     },
     "metadata": {},
     "output_type": "display_data"
    }
   ],
   "source": [
    "# Histogram\n",
    "fig, axes = plt.subplots()\n",
    "_ = axes.hist(frequentie, edgecolor='black', color='Green', label='Metingen')\n",
    "_ = axes.set_title('Zonneopbrengst')\n",
    "_ = axes.set_xlabel('Frequentie')\n",
    "_ = axes.set_ylabel('Metingen')\n",
    "_ = axes.legend()"
   ]
  },
  {
   "cell_type": "markdown",
   "metadata": {},
   "source": [
    "### Vraag 3  \n",
    "\n",
    "Geef nu antwoord op de volgende vragen:\n",
    "\n",
    "- op de meeste dagen van het jaar ligt de dagopbrengst in de klasse ...\n",
    "- er waren ... dagen met een opbrengst tussen 3 en 4 KWh\n",
    "- er waren ... dagen met een opbrengst tussen 2 en 4 KWh\n",
    "\n",
    "Je voelt intuïtief misschien al aan dat de antwoorden op de laatste twee vragen niet echt veel informatie geven.  Dat aantal hangt nl. ook af van het aantal metingen.  We zijn meer geïnteresseerd in het percentage van de dagen waarin de opbrengst tussen 3 en 4 KWh ligt.  Dit kunnen we echter perfect berekenen a.d.h. van relatieve frequenties.  Geef antwoord op de volgende vragen:\n",
    "\n",
    "- ...% van de dagen lag de opbrengst tussen 3 en 4 KWh\n",
    "-  ...% van de dagen lag de opbrengst tussen 2 en 4 KWh\n",
    "\n",
    "-  Stel dat ik op een bepaalde dag een opbrengst van 3 KWh meet.  Welke percentielscore komt hiermee overeen?  Is dat een grote opbrengst?\n",
    "Merk hierbij op: uit de frequentietabel zou je kunnen afleiden dat een opbrengst tussen 0 en 1 zoveel voorkomt dat 3KWh enorm veel is.  Maar er zijn ook heel veel dagen met meer opbrengst, maar die zijn meer verspreid.  Een cumulatief percentage kan dit laten zien."
   ]
  },
  {
   "cell_type": "code",
   "execution_count": 6,
   "metadata": {},
   "outputs": [],
   "source": [
    "# Op de meeste dagen van het jaar ligt de dagopbrengst in de klasse [0-1]."
   ]
  },
  {
   "cell_type": "code",
   "execution_count": 7,
   "outputs": [],
   "source": [
    "# Er waren [94] dagen met een opbrengst tussen 3 en 4 KWh."
   ],
   "metadata": {
    "collapsed": false
   }
  },
  {
   "cell_type": "code",
   "execution_count": 8,
   "outputs": [],
   "source": [
    "# Er waren [208] dagen met een opbrengst tussen 2 en 4 KWh."
   ],
   "metadata": {
    "collapsed": false
   }
  },
  {
   "cell_type": "code",
   "execution_count": 9,
   "outputs": [
    {
     "name": "stdout",
     "output_type": "stream",
     "text": [
      "               metingen\n",
      "(-0.001, 1.0]      21.0\n",
      "(1.0, 2.0]         12.0\n",
      "(2.0, 3.0]          9.0\n",
      "(3.0, 4.0]          8.0\n",
      "(4.0, 5.0]          7.0\n",
      "(5.0, 6.0]          8.0\n",
      "(6.0, 7.0]          8.0\n",
      "(7.0, 8.0]          9.0\n",
      "(8.0, 9.0]          7.0\n",
      "(9.0, 10.0]         4.0\n",
      "(10.0, 11.0]        3.0\n",
      "(11.0, 12.0]        2.0\n",
      "(12.0, 13.0]        0.0\n",
      "(13.0, 14.0]        0.0\n"
     ]
    }
   ],
   "source": [
    "TotaalFrequentie = frequentie.sum()\n",
    "\n",
    "RelatieveFrequenties = (frequentie/TotaalFrequentie * 100).round(0)\n",
    "\n",
    "print(RelatieveFrequenties)"
   ],
   "metadata": {
    "collapsed": false
   }
  },
  {
   "cell_type": "code",
   "execution_count": 10,
   "outputs": [],
   "source": [
    "# [8%] van de dagen lag de opbrengst tussen 3 en 4 KWh."
   ],
   "metadata": {
    "collapsed": false
   }
  },
  {
   "cell_type": "code",
   "execution_count": 11,
   "outputs": [],
   "source": [
    "# [9%] van de dagen lag de opbrengst tussen 2 en 4 KWh."
   ],
   "metadata": {
    "collapsed": false
   }
  },
  {
   "cell_type": "code",
   "execution_count": 13,
   "outputs": [
    {
     "name": "stdout",
     "output_type": "stream",
     "text": [
      "Cumulatief percentage bij KWH 3-4: 31.96%\n"
     ]
    }
   ],
   "source": [
    "cum_frequentie = frequentie[frequentie['metingen']<=94]['metingen'].sum()\n",
    "\n",
    "totaal_frequentie = frequentie['metingen'].sum()\n",
    "\n",
    "cum_percentage = cum_frequentie/totaal_frequentie*100\n",
    "\n",
    "print(f\"Cumulatief percentage bij KWH 3-4: {cum_percentage:.2f}%\")"
   ],
   "metadata": {
    "collapsed": false
   }
  }
 ],
 "metadata": {
  "colab": {
   "authorship_tag": "ABX9TyNg6aRit7BREhWjeFuuQ0WE",
   "name": "zonneopbrengst_freq.ipynb",
   "provenance": []
  },
  "kernelspec": {
   "display_name": "Python 3",
   "language": "python",
   "name": "python3"
  },
  "language_info": {
   "codemirror_mode": {
    "name": "ipython",
    "version": 3
   },
   "file_extension": ".py",
   "mimetype": "text/x-python",
   "name": "python",
   "nbconvert_exporter": "python",
   "pygments_lexer": "ipython3",
   "version": "3.8.7"
  }
 },
 "nbformat": 4,
 "nbformat_minor": 1
}
